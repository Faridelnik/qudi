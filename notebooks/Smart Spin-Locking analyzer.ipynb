{
 "cells": [
  {
   "cell_type": "code",
   "execution_count": 5,
   "metadata": {
    "collapsed": false
   },
   "outputs": [],
   "source": [
    "import numpy as np\n",
    "\n",
    "def export_counts(myfile, contrast, N):\n",
    "    f = open(myfile, 'r')\n",
    "    lines = f.readlines()\n",
    "    result = []\n",
    "    for x in lines:\n",
    "        result.append(x.split('#')[0])\n",
    "    f.close()\n",
    "    a = [x for x in result if x != '']\n",
    "\n",
    "    evolution_time = np.zeros(len(a))\n",
    "    counts1 = np.zeros(len(a))\n",
    "    error1 = np.zeros(len(a))\n",
    "    counts2 = np.zeros(len(a))\n",
    "    error2 = np.zeros(len(a))\n",
    "\n",
    "    for i in range(len(a)):\n",
    "        evolution_time[i]=np.asarray(a[i].split(), dtype=np.float32)[0]\n",
    "        counts1[i] = np.asarray(a[i].split(), dtype=np.float32)[1]\n",
    "        error1[i] = np.asarray(a[i].split(), dtype=np.float32)[3]\n",
    "        counts2[i] = np.asarray(a[i].split(), dtype=np.float32)[2]\n",
    "        error2[i] = np.asarray(a[i].split(), dtype=np.float32)[4]\n",
    "\n",
    "    baseline = np.sum(counts2+counts1)/len(counts2)/2\n",
    "    C0_up = baseline / (1 - 0.01 * contrast / 2)\n",
    "    C0_down = C0_up * (1 - 0.01 * contrast)\n",
    "    counts = counts2 - counts1\n",
    "\n",
    "    T = evolution_time * 10 * N\n",
    "\n",
    "    normalized_counts = (counts) / (C0_up - C0_down)\n",
    "    freq=0.5/evolution_time/1.0e+6\n",
    "    return normalized_counts, evolution_time, error1"
   ]
  },
  {
   "cell_type": "code",
   "execution_count": 9,
   "metadata": {
    "collapsed": false
   },
   "outputs": [],
   "source": [
    "my_files=['G:/data/QudiData/2018/04/20180427/PulsedMeasurement/20180427-1821-53_NV6_HHSW-0.122_[  1.00000000e-08]_NV6_pulsed_measurement.dat',\n",
    "          'G:/data/QudiData/2018/04/20180427/PulsedMeasurement/20180427-1826-49_NV6_HHSW-0.122_[  5.01000000e-06]_NV6_pulsed_measurement.dat',\n",
    "          'G:/data/QudiData/2018/04/20180427/PulsedMeasurement/20180427-1831-57_NV6_HHSW-0.122_[  1.00100000e-05]_NV6_pulsed_measurement.dat',\n",
    "          'G:/data/QudiData/2018/04/20180427/PulsedMeasurement/20180427-1837-11_NV6_HHSW-0.122_[  1.50100000e-05]_NV6_pulsed_measurement.dat',\n",
    "          'G:/data/QudiData/2018/04/20180427/PulsedMeasurement/20180427-1842-36_NV6_HHSW-0.122_[  2.00100000e-05]_NV6_pulsed_measurement.dat', \n",
    "          'G:/data/QudiData/2018/04/20180427/PulsedMeasurement/20180427-1848-10_NV6_HHSW-0.122_[  2.50100000e-05]_NV6_pulsed_measurement.dat',       \n",
    "          'G:/data/QudiData/2018/04/20180427/PulsedMeasurement/20180427-1853-56_NV6_HHSW-0.122_[  3.00100000e-05]_NV6_pulsed_measurement.dat',\n",
    "          'G:/data/QudiData/2018/04/20180427/PulsedMeasurement/20180427-1859-51_NV6_HHSW-0.122_[  3.50100000e-05]_NV6_pulsed_measurement.dat',\n",
    "          'G:/data/QudiData/2018/04/20180427/PulsedMeasurement/20180427-1905-55_NV6_HHSW-0.122_[  4.00100000e-05]_NV6_pulsed_measurement.dat',\n",
    "          'G:/data/QudiData/2018/04/20180427/PulsedMeasurement/20180427-1912-09_NV6_HHSW-0.122_[  4.50100000e-05]_NV6_pulsed_measurement.dat',\n",
    "          'G:/data/QudiData/2018/04/20180427/PulsedMeasurement/20180427-1918-35_NV6_HHSW-0.122_[  5.00100000e-05]_NV6_pulsed_measurement.dat',\n",
    "          'G:/data/QudiData/2018/04/20180427/PulsedMeasurement/20180427-1925-10_NV6_HHSW-0.122_[  5.50100000e-05]_NV6_pulsed_measurement.dat',\n",
    "          'G:/data/QudiData/2018/04/20180427/PulsedMeasurement/20180427-1931-55_NV6_HHSW-0.122_[  6.00100000e-05]_NV6_pulsed_measurement.dat',\n",
    "          'G:/data/QudiData/2018/04/20180427/PulsedMeasurement/20180427-1938-50_NV6_HHSW-0.122_[  6.50100000e-05]_NV6_pulsed_measurement.dat',\n",
    "          'G:/data/QudiData/2018/04/20180427/PulsedMeasurement/20180427-1945-54_NV6_HHSW-0.122_[  7.00100000e-05]_NV6_pulsed_measurement.dat', \n",
    "          'G:/data/QudiData/2018/04/20180427/PulsedMeasurement/20180427-1953-10_NV6_HHSW-0.122_[  7.50100000e-05]_NV6_pulsed_measurement.dat',       \n",
    "          'G:/data/QudiData/2018/04/20180427/PulsedMeasurement/20180427-2000-34_NV6_HHSW-0.122_[  8.00100000e-05]_NV6_pulsed_measurement.dat',\n",
    "          'G:/data/QudiData/2018/04/20180427/PulsedMeasurement/20180427-2008-09_NV6_HHSW-0.122_[  8.50100000e-05]_NV6_pulsed_measurement.dat',\n",
    "          'G:/data/QudiData/2018/04/20180427/PulsedMeasurement/20180427-2015-52_NV6_HHSW-0.122_[  9.00100000e-05]_NV6_pulsed_measurement.dat',\n",
    "          'G:/data/QudiData/2018/04/20180427/PulsedMeasurement/20180427-2023-47_NV6_HHSW-0.122_[  9.50100000e-05]_NV6_pulsed_measurement.dat',\n",
    "          'G:/data/QudiData/2018/04/20180427/PulsedMeasurement/20180427-2031-52_NV6_HHSW-0.122_[ 0.00010001]_NV6_pulsed_measurement.dat',\n",
    "          'G:/data/QudiData/2018/04/20180427/PulsedMeasurement/20180427-2040-07_NV6_HHSW-0.122_[ 0.00010501]_NV6_pulsed_measurement.dat',\n",
    "          'G:/data/QudiData/2018/04/20180427/PulsedMeasurement/20180427-2048-31_NV6_HHSW-0.122_[ 0.00011001]_NV6_pulsed_measurement.dat',\n",
    "          'G:/data/QudiData/2018/04/20180427/PulsedMeasurement/20180427-2057-07_NV6_HHSW-0.122_[ 0.00011501]_NV6_pulsed_measurement.dat',\n",
    "          'G:/data/QudiData/2018/04/20180427/PulsedMeasurement/20180427-2105-51_NV6_HHSW-0.122_[ 0.00012001]_NV6_pulsed_measurement.dat', \n",
    "          'G:/data/QudiData/2018/04/20180427/PulsedMeasurement/20180427-2114-45_NV6_HHSW-0.122_[ 0.00012501]_NV6_pulsed_measurement.dat',       \n",
    "          'G:/data/QudiData/2018/04/20180427/PulsedMeasurement/20180427-2123-50_NV6_HHSW-0.122_[ 0.00013001]_NV6_pulsed_measurement.dat',\n",
    "          'G:/data/QudiData/2018/04/20180427/PulsedMeasurement/20180427-2133-05_NV6_HHSW-0.122_[ 0.00013501]_NV6_pulsed_measurement.dat',\n",
    "          'G:/data/QudiData/2018/04/20180427/PulsedMeasurement/20180427-2142-30_NV6_HHSW-0.122_[ 0.00014001]_NV6_pulsed_measurement.dat',\n",
    "          'G:/data/QudiData/2018/04/20180427/PulsedMeasurement/20180427-2152-05_NV6_HHSW-0.122_[ 0.00014501]_NV6_pulsed_measurement.dat',\n",
    "          'G:/data/QudiData/2018/04/20180427/PulsedMeasurement/20180427-2201-50_NV6_HHSW-0.122_[ 0.00015001]_NV6_pulsed_measurement.dat',\n",
    "          'G:/data/QudiData/2018/04/20180427/PulsedMeasurement/20180427-2211-45_NV6_HHSW-0.122_[ 0.00015501]_NV6_pulsed_measurement.dat',\n",
    "          'G:/data/QudiData/2018/04/20180427/PulsedMeasurement/20180427-2221-50_NV6_HHSW-0.122_[ 0.00016001]_NV6_pulsed_measurement.dat',\n",
    "          'G:/data/QudiData/2018/04/20180427/PulsedMeasurement/20180427-2232-05_NV6_HHSW-0.122_[ 0.00016501]_NV6_pulsed_measurement.dat',\n",
    "          'G:/data/QudiData/2018/04/20180427/PulsedMeasurement/20180427-2242-30_NV6_HHSW-0.122_[ 0.00017001]_NV6_pulsed_measurement.dat', \n",
    "          'G:/data/QudiData/2018/04/20180427/PulsedMeasurement/20180427-2253-07_NV6_HHSW-0.122_[ 0.00017501]_NV6_pulsed_measurement.dat',       \n",
    "          'G:/data/QudiData/2018/04/20180427/PulsedMeasurement/20180427-2303-52_NV6_HHSW-0.122_[ 0.00018001]_NV6_pulsed_measurement.dat',\n",
    "          'G:/data/QudiData/2018/04/20180427/PulsedMeasurement/20180427-2314-48_NV6_HHSW-0.122_[ 0.00018501]_NV6_pulsed_measurement.dat',\n",
    "          'G:/data/QudiData/2018/04/20180427/PulsedMeasurement/20180427-2325-52_NV6_HHSW-0.122_[ 0.00019001]_NV6_pulsed_measurement.dat',\n",
    "          'G:/data/QudiData/2018/04/20180427/PulsedMeasurement/20180427-2337-06_NV6_HHSW-0.122_[ 0.00019501]_NV6_pulsed_measurement.dat'\n",
    "         ]\n",
    "N=16"
   ]
  },
  {
   "cell_type": "code",
   "execution_count": 10,
   "metadata": {
    "collapsed": false
   },
   "outputs": [],
   "source": [
    "normalized_counts = np.zeros(len(my_files))\n",
    "evolution_time = np.zeros(len(my_files))\n",
    "error = np.zeros(len(my_files))\n",
    "\n",
    "for i in range(len(my_files)):\n",
    "    normalized_counts[i] = export_counts(my_files[i], 27, N)[0]\n",
    "    evolution_time[i] = export_counts(my_files[i], 27, N)[1]\n",
    "    error[i] = export_counts(my_files[i], 27, N)[2]"
   ]
  },
  {
   "cell_type": "code",
   "execution_count": 9,
   "metadata": {
    "collapsed": false
   },
   "outputs": [],
   "source": [
    "my_files2=['G:/data/QudiData/2018/04/20180420/PulsedMeasurement/20180420-1424-39_NV10_HHSW-0.1139_[  1.00000000e-08]_NV10_pulsed_measurement.dat',\n",
    "          'G:/data/QudiData/2018/04/20180420/PulsedMeasurement/20180420-1436-54_NV10_HHSW-0.1139_[  1.00100000e-05]_NV10_pulsed_measurement.dat',\n",
    "          'G:/data/QudiData/2018/04/20180420/PulsedMeasurement/20180420-1443-18_NV10_HHSW-0.1139_[  1.50100000e-05]_NV10_pulsed_measurement.dat',\n",
    "          'G:/data/QudiData/2018/04/20180420/PulsedMeasurement/20180420-1449-50_NV10_HHSW-0.1139_[  2.00100000e-05]_NV10_pulsed_measurement.dat',\n",
    "          'G:/data/QudiData/2018/04/20180420/PulsedMeasurement/20180420-1456-31_NV10_HHSW-0.1139_[  2.50100000e-05]_NV10_pulsed_measurement.dat', \n",
    "          'G:/data/QudiData/2018/04/20180420/PulsedMeasurement/20180420-1503-22_NV10_HHSW-0.1139_[  3.00100000e-05]_NV10_pulsed_measurement.dat',       \n",
    "          'G:/data/QudiData/2018/04/20180420/PulsedMeasurement/20180420-1510-24_NV10_HHSW-0.1139_[  3.50100000e-05]_NV10_pulsed_measurement.dat',\n",
    "          'G:/data/QudiData/2018/04/20180420/PulsedMeasurement/20180420-1517-34_NV10_HHSW-0.1139_[  4.00100000e-05]_NV10_pulsed_measurement.dat',\n",
    "          'G:/data/QudiData/2018/04/20180420/PulsedMeasurement/20180420-1524-55_NV10_HHSW-0.1139_[  4.50100000e-05]_NV10_pulsed_measurement.dat',\n",
    "          'G:/data/QudiData/2018/04/20180420/PulsedMeasurement/20180420-1532-26_NV10_HHSW-0.1139_[  5.00100000e-05]_NV10_pulsed_measurement.dat',\n",
    "          'G:/data/QudiData/2018/04/20180420/PulsedMeasurement/20180420-1540-07_NV10_HHSW-0.1139_[  5.50100000e-05]_NV10_pulsed_measurement.dat',\n",
    "          'G:/data/QudiData/2018/04/20180420/PulsedMeasurement/20180420-1547-59_NV10_HHSW-0.1139_[  6.00100000e-05]_NV10_pulsed_measurement.dat',\n",
    "          'G:/data/QudiData/2018/04/20180420/PulsedMeasurement/20180420-1556-00_NV10_HHSW-0.1139_[  6.50100000e-05]_NV10_pulsed_measurement.dat',\n",
    "          'G:/data/QudiData/2018/04/20180420/PulsedMeasurement/20180420-1604-11_NV10_HHSW-0.1139_[  7.00100000e-05]_NV10_pulsed_measurement.dat',\n",
    "          'G:/data/QudiData/2018/04/20180420/PulsedMeasurement/20180420-1612-33_NV10_HHSW-0.1139_[  7.50100000e-05]_NV10_pulsed_measurement.dat',\n",
    "          'G:/data/QudiData/2018/04/20180420/PulsedMeasurement/20180420-1621-05_NV10_HHSW-0.1139_[  8.00100000e-05]_NV10_pulsed_measurement.dat',\n",
    "          'G:/data/QudiData/2018/04/20180420/PulsedMeasurement/20180420-1540-07_NV10_HHSW-0.1139_[  5.50100000e-05]_NV10_pulsed_measurement.dat',\n",
    "          'G:/data/QudiData/2018/04/20180420/PulsedMeasurement/20180420-1540-07_NV10_HHSW-0.1139_[  5.50100000e-05]_NV10_pulsed_measurement.dat',\n",
    "          'G:/data/QudiData/2018/04/20180420/PulsedMeasurement/20180420-1540-07_NV10_HHSW-0.1139_[  5.50100000e-05]_NV10_pulsed_measurement.dat',\n",
    "          'G:/data/QudiData/2018/04/20180420/PulsedMeasurement/20180420-1540-07_NV10_HHSW-0.1139_[  5.50100000e-05]_NV10_pulsed_measurement.dat',\n",
    "           \n",
    "          ]"
   ]
  },
  {
   "cell_type": "code",
   "execution_count": 10,
   "metadata": {
    "collapsed": false
   },
   "outputs": [],
   "source": [
    "normalized_counts2 = np.zeros(len(my_files2))\n",
    "evolution_time2 = np.zeros(len(my_files2))\n",
    "error2 = np.zeros(len(my_files2))\n",
    "\n",
    "for i in range(len(my_files2)):\n",
    "    normalized_counts2[i] = export_counts(my_files2[i], 30.6, N)[0]\n",
    "    evolution_time2[i] = export_counts(my_files2[i], 30.6, N)[1]\n",
    "    error2[i] = export_counts(my_files2[i], 30.6, N)[2]"
   ]
  },
  {
   "cell_type": "code",
   "execution_count": 11,
   "metadata": {
    "collapsed": false,
    "scrolled": true
   },
   "outputs": [
    {
     "data": {
      "text/plain": [
       "'file://C:\\\\Users\\\\pi3\\\\Documents\\\\GitHub\\\\qudi\\\\scatter-mode.html'"
      ]
     },
     "execution_count": 11,
     "metadata": {},
     "output_type": "execute_result"
    }
   ],
   "source": [
    "from plotly import __version__\n",
    "from plotly.offline import init_notebook_mode, plot\n",
    "from plotly.graph_objs import Scatter\n",
    "\n",
    "init_notebook_mode()\n",
    "\n",
    "trace1 = Scatter(\n",
    "    x = evolution_time*1e+6,\n",
    "    y = normalized_counts,\n",
    "    error_y=dict(\n",
    "            type='data',\n",
    "            array=error,\n",
    "            visible=True\n",
    "                ),\n",
    "    mode = 'lines+markers',\n",
    "    name = 'off resonance'\n",
    ")\n",
    "\n",
    "# trace2 = Scatter(\n",
    "#     x = evolution_time2*1e+6,\n",
    "#     y = normalized_counts2,\n",
    "#     error_y=dict(\n",
    "#             type='data',\n",
    "#             array=error2,\n",
    "#             visible=True\n",
    "#                 ),\n",
    "#     mode = 'lines+markers',\n",
    "#     name = 'on resonance'\n",
    "# )\n",
    "\n",
    "plot_data = [trace1]\n",
    "plot(plot_data, filename='scatter-mode')"
   ]
  },
  {
   "cell_type": "code",
   "execution_count": null,
   "metadata": {
    "collapsed": true
   },
   "outputs": [],
   "source": [
    "np.savetxt('G:/data/QudiData/2018/01/20180119/PulsedMeasurement/counts_kddxy_6_pol.txt', normalized_counts, delimiter=',')\n",
    "np.savetxt('G:/data/QudiData/2018/01/20180119/PulsedMeasurement/freq_kddxy_6_pol.txt', freq, delimiter=',')"
   ]
  },
  {
   "cell_type": "code",
   "execution_count": null,
   "metadata": {
    "collapsed": false
   },
   "outputs": [],
   "source": [
    "import pylab as plb\n",
    "from scipy.optimize import curve_fit\n",
    "from scipy import asarray as ar,exp\n",
    "\n",
    "x=0.5/evolution_time/1.0e+6\n",
    "y=normalized_counts\n",
    "\n",
    "n = len(x)                          #the number of data\n",
    "mean = sum(x*y)/n                   #note this correction\n",
    "sigma = sum(y*(x-mean)**2)/n        #note this correction\n",
    "\n",
    "def gaus(x,a,x0,sigma):\n",
    "    return y[0]-a*exp(-(x-x0)**2/(2*sigma**2))\n",
    "\n",
    "popt,pcov = curve_fit(gaus,x,y,p0=[0.3, 2.4, 0.1])\n",
    "\n",
    "print(popt)"
   ]
  },
  {
   "cell_type": "code",
   "execution_count": null,
   "metadata": {
    "collapsed": false
   },
   "outputs": [],
   "source": [
    "from plotly import __version__\n",
    "from plotly.offline import init_notebook_mode, plot\n",
    "from plotly.graph_objs import Scatter\n",
    "\n",
    "init_notebook_mode()\n",
    "\n",
    "# print(\"plotly version:\", __version__)\n",
    "\n",
    "freq=0.5/evolution_time/1.0e+6\n",
    "popt=[ 0.15,  2.41,  0.03]\n",
    "\n",
    "trace1 = Scatter(\n",
    "    x = freq,\n",
    "    y = normalized_counts,\n",
    "    mode = 'lines+markers',\n",
    "    name = 'lines+markers'\n",
    ")\n",
    "trace2 = Scatter(\n",
    "    x = np.linspace(freq.max(), freq.min(), 200),\n",
    "    y = gaus(np.linspace(freq.max(), freq.min(), 200), *popt)-0.2,\n",
    "    mode = 'lines',\n",
    "    name = 'lines'\n",
    ")\n",
    "\n",
    "plot_data = [trace1, trace2]\n",
    "plot(plot_data, filename='scatter-mode')"
   ]
  },
  {
   "cell_type": "code",
   "execution_count": null,
   "metadata": {
    "collapsed": false
   },
   "outputs": [],
   "source": [
    "from plotly import __version__\n",
    "from plotly.offline import init_notebook_mode, plot\n",
    "from plotly.graph_objs import Scatter\n",
    "\n",
    "# t=np.linspace(0, 2*4*300e-9, 200)\n",
    "# y=np.sin(2*np.pi*2.4*1e+6*t)\n",
    "\n",
    "t=np.linspace(0, 4, 200)\n",
    "y=np.exp(-t)\n",
    "\n",
    "trace = Scatter(\n",
    "    x = t,\n",
    "    y = y,\n",
    "    mode = 'lines',\n",
    "    name = 'lines'\n",
    ")\n",
    "\n",
    "plot_data = [trace]\n",
    "plot(plot_data, filename='scatter-mode')"
   ]
  },
  {
   "cell_type": "code",
   "execution_count": null,
   "metadata": {
    "collapsed": true
   },
   "outputs": [],
   "source": []
  }
 ],
 "metadata": {
  "kernelspec": {
   "display_name": "Qudi",
   "language": "python",
   "name": "qudi"
  },
  "language_info": {
   "codemirror_mode": {
    "name": "ipython",
    "version": "3.6.0"
   },
   "file_extension": ".py",
   "mimetype": "text/x-python",
   "name": "python",
   "nbconvert_exporter": "python",
   "pygments_lexer": "ipython3",
   "version": "3.6.0"
  }
 },
 "nbformat": 4,
 "nbformat_minor": 2
}
