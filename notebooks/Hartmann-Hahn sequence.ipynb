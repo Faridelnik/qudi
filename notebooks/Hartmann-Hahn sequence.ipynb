{
 "cells": [
  {
   "cell_type": "markdown",
   "metadata": {},
   "source": [
    "# Hartmann Hahn polarising sequence"
   ]
  },
  {
   "cell_type": "code",
   "execution_count": 15,
   "metadata": {
    "collapsed": true
   },
   "outputs": [],
   "source": [
    "from collections import OrderedDict\n",
    "import datetime\n",
    "import numpy as np\n",
    "import time\n",
    "import os"
   ]
  },
  {
   "cell_type": "code",
   "execution_count": 16,
   "metadata": {
    "collapsed": false
   },
   "outputs": [],
   "source": [
    "try: \n",
    "    pulsedmasterlogic\n",
    "except NameError:\n",
    "    manager.startModule('logic', 'pulsedmasterlogic')\n",
    "try: \n",
    "    scannerlogic\n",
    "except NameError:\n",
    "    manager.startModule('logic', 'scannerlogic')\n",
    "try: \n",
    "    optimizerlogic\n",
    "except NameError:\n",
    "    manager.startModule('logic', 'optimizerlogic')\n",
    "try:\n",
    "    sequencegeneratorlogic\n",
    "except NameError:\n",
    "    manager.startModule('logic', 'sequencegeneratorlogic')\n",
    "try:\n",
    "    pulsedmeasurement\n",
    "except NameError:\n",
    "    manager.startModule('gui', 'pulsedmeasurement')   \n",
    "try:\n",
    "    poimanagerlogic\n",
    "except NameError:\n",
    "    manager.startModule('logic', 'poimaganerlogic')    "
   ]
  },
  {
   "cell_type": "code",
   "execution_count": 17,
   "metadata": {
    "collapsed": true
   },
   "outputs": [],
   "source": [
    "def write_to_logfile(nametag, timestamp, name, **kwargs):\n",
    "    \"\"\" Write parameters to custom logfile with name nametag \"\"\"\n",
    "    if type(timestamp) is not str:\n",
    "        timestamp = str(timestamp)\n",
    "    parameters = list(kwargs)\n",
    "    if len(parameters) == 1 and type(kwargs[parameters[0]]) is OrderedDict:\n",
    "        param_dict = kwargs[parameters[0]]\n",
    "        parameters = list(param_dict)\n",
    "        kwargs = param_dict\n",
    "    log_dir = pulsedmeasurement._save_logic.get_path_for_module('CustomLogfiles')\n",
    "    log_path = os.path.join(log_dir, nametag + '.txt')\n",
    "    if not os.path.isfile(log_path):\n",
    "        with open(log_path, 'w') as logfile:\n",
    "            logfile.write('# timestamp\\t')\n",
    "            logfile.write('# Name\\t')\n",
    "            for param in parameters:\n",
    "                logfile.write(param + '\\t')\n",
    "            logfile.write('\\n#\\n')\n",
    "    with open(log_path, 'a') as logfile:\n",
    "        logfile.write(timestamp + '\\t')\n",
    "        logfile.write(name + '\\t')\n",
    "        for param in parameters:\n",
    "            logfile.write('{0:3.6e}\\t'.format(kwargs[param]))\n",
    "        logfile.write('\\n')\n",
    "    return"
   ]
  },
  {
   "cell_type": "code",
   "execution_count": 18,
   "metadata": {
    "collapsed": false
   },
   "outputs": [],
   "source": [
    "# static hardware parameters:\n",
    "setup = OrderedDict()\n",
    "setup['sampling_freq'] = pulsedmeasurementlogic.sample_rate\n",
    "setup['fc_binwidth'] = pulsedmeasurementlogic.fast_counter_binwidth\n",
    "setup['wait_length'] = 1.5e-6\n",
    "setup['aom_delay'] = 500e-9\n",
    "#setup['channel_config_name'] = pulsedmeasurement.current_channel_config_name\n",
    "setup['seq_trig']=''\n",
    "setup['gate']='d_ch2'\n",
    "setup['NV_name']='NV4'\n",
    "setup['poi'] = poimanagerlogic.active_poi.get_key()\n",
    "setup['laser_length'] = 3.0e-6\n",
    "setup[\"min_counts\"] = 10000 # if after a refocus only 40kcounts are measured the refocus is repeated up to max 3 times\n",
    "# Set amplitude in logic and pulser hardware:\n",
    "amp_dict = OrderedDict()\n",
    "amp_dict['a_ch1'] = 0.25\n",
    "amp_dict['a_ch2'] = 0.0\n",
    "AWG5014C.amplitude_dict = amp_dict\n",
    "#pulsedmaster.pulse_generator_settings_changed(setup['sampling_freq'], setup['channel_config_name'], amp_dict, False)"
   ]
  },
  {
   "cell_type": "code",
   "execution_count": 20,
   "metadata": {
    "collapsed": true
   },
   "outputs": [],
   "source": [
    "# for single frequency XY8-N:\n",
    "hh_tau = OrderedDict()\n",
    "hh_tau['mw_amp'] = 0.25\n",
    "hh_tau['spinlock_amp'] = 0.1126\n",
    "hh_tau['mw_freq'] = 100e6\n",
    "hh_tau['tau_start'] = 1*1e-6\n",
    "hh_tau['tau_incr'] = 15.0*1e-6\n",
    "hh_tau['points'] = 20\n",
    "hh_tau['measurement_time'] =40*60\n",
    "hh_tau['refocus_interval'] = 2*60\n",
    "hh_tau['alternating']=True\n",
    "hh_tau['rabi_period']=159.6*1e-9"
   ]
  },
  {
   "cell_type": "code",
   "execution_count": 21,
   "metadata": {
    "collapsed": false,
    "scrolled": true
   },
   "outputs": [
    {
     "name": "stdout",
     "output_type": "stream",
     "text": [
      "<logic.pulse_objects.PulseSequence object at 0x000002134367AFD0>\n"
     ]
    }
   ],
   "source": [
    "# generate new HH sequence\n",
    "sequencegeneratorlogic.delete_sequence('HHtauseq')    \n",
    "sequencegeneratorlogic.generate_Hartmann_Hahn_tau_sequence('HHtauseq', hh_tau['rabi_period'], hh_tau['spinlock_amp'], 100e6,\n",
    "                   0.25, hh_tau['tau_start'], hh_tau['tau_incr'], hh_tau['points'],\n",
    "                   'a_ch1', 3.0e-6, 2.0, 0.7e-6, 1.0e-6, '', 'd_ch2', True)\n",
    "# sample, upload and load waveform\n",
    "if 'HHtauseq' not in sequencegeneratorlogic.saved_pulse_sequences:\n",
    "    sequencegeneratorlogic.log.error('Sequence generation of HHtauseq in notebook timed out.')\n",
    "pulsedmasterlogic.sample_sequence('HHtauseq', True)\n",
    "\n",
    "while pulsedmasterlogic.status_dict['sauplo_sequence_busy'] or pulsedmasterlogic.status_dict['loading_busy']:\n",
    "        time.sleep(5)\n",
    "\n",
    "import winsound\n",
    "frequency = 300  # Set Frequency To 2500 Hertz\n",
    "duration = 1000  # Set Duration To 1000 ms == 1 second\n",
    "winsound.Beep(frequency, duration)"
   ]
  },
  {
   "cell_type": "code",
   "execution_count": 12,
   "metadata": {
    "collapsed": false
   },
   "outputs": [],
   "source": [
    "# # generate new HH sequence\n",
    "# sequencegeneratorlogic.delete_sequence('HHahn_tau_seq')    \n",
    "# sequencegeneratorlogic.generate_Hartmann_Hahn_tau_sequence('HHahn_tau_seq', hh_tau['rabi_period'], hh_tau['spinlock_amp'], 100e6,\n",
    "#                    0.25, hh_tau['tau_start'], hh_tau['tau_incr'], hh_tau['points'],\n",
    "#                    'a_ch1', 3.0e-6, 2.0, 0.7e-6, 1.0e-6, '', 'd_ch2', True)\n",
    "# # sample, upload and load waveform\n",
    "# if 'HHahn_tau_seq' not in sequencegeneratorlogic.saved_pulse_sequences:\n",
    "#     sequencegeneratorlogic.log.error('Sequence generation of HHtauseq in notebook timed out.')\n",
    "# pulsedmasterlogic.sample_sequence('HHahn_tau_seq', True)\n",
    "\n",
    "# while pulsedmasterlogic.status_dict['sauplo_sequence_busy'] or pulsedmasterlogic.status_dict['loading_busy']:\n",
    "#         time.sleep(5)\n",
    "\n",
    "# import winsound\n",
    "# frequency = 300  # Set Frequency To 2500 Hertz\n",
    "# duration = 1000  # Set Duration To 1000 ms == 1 second\n",
    "# winsound.Beep(frequency, duration)"
   ]
  },
  {
   "cell_type": "code",
   "execution_count": 22,
   "metadata": {
    "collapsed": false,
    "scrolled": false
   },
   "outputs": [
    {
     "name": "stdout",
     "output_type": "stream",
     "text": [
      "163806.5 1.5799667646813502e-08\n"
     ]
    },
    {
     "data": {
      "text/plain": [
       "True"
      ]
     },
     "execution_count": 22,
     "metadata": {},
     "output_type": "execute_result"
    }
   ],
   "source": [
    "refocus_poi(setup['poi'])"
   ]
  },
  {
   "cell_type": "code",
   "execution_count": 23,
   "metadata": {
    "collapsed": false,
    "scrolled": true
   },
   "outputs": [
    {
     "name": "stdout",
     "output_type": "stream",
     "text": [
      "163806.5 1.1626825471672232e-08\n",
      "163806.5 2.6850244729551215e-09\n",
      "163806.5 3.005810816146228e-09\n",
      "163806.5 1.3200870757738858e-09\n",
      "163806.5 7.038121997686865e-09\n",
      "163806.5 1.194493002202961e-08\n",
      "163806.5 2.3904477421287013e-10\n",
      "163806.5 4.171495845714475e-09\n",
      "163806.5 2.7504296789289515e-09\n",
      "163806.5 6.84322727305365e-09\n",
      "163806.5 2.6292083627273046e-09\n",
      "163806.5 1.0069229314824563e-08\n",
      "163806.5 6.9102228445214e-09\n",
      "163806.5 5.071802442048023e-09\n",
      "163806.5 1.058369995143548e-08\n",
      "163806.5 2.750909754475867e-09\n",
      "163806.5 3.05695449709774e-09\n",
      "163806.5 6.913173087381741e-09\n",
      "163806.5 2.0639029174570396e-09\n"
     ]
    },
    {
     "data": {
      "text/plain": [
       "False"
      ]
     },
     "execution_count": 23,
     "metadata": {},
     "output_type": "execute_result"
    }
   ],
   "source": [
    "do_hh_tau_refocus(setup['poi'])"
   ]
  },
  {
   "cell_type": "code",
   "execution_count": 19,
   "metadata": {
    "collapsed": true
   },
   "outputs": [],
   "source": [
    "def refocus_poi(poi=None, max_drift=0.3,min_counts=setup[\"min_counts\"]):\n",
    "    if poi==None:\n",
    "        return False\n",
    "#     pulsedmasterlogic.load_asset_into_channels('Laser_On')\n",
    "#     while pulsedmasterlogic.status_dict['loading_busy']:\n",
    "#         time.sleep(0.5)\n",
    "#     pulsedmasterlogic.toggle_pulse_generator(False)\n",
    "#     time.sleep(0.5)\n",
    "    # perform refocus\n",
    "    scannerlogic.stop_scanning()\n",
    "    poimanagerlogic.go_to_poi(poi)\n",
    "    pos_start = scannerlogic.get_position()\n",
    "    setup['NV_name']=poimanagerlogic.poi_list[poi]._name\n",
    "    poimanagerlogic.optimise_poi(poi)\n",
    "    while optimizerlogic.getState() == 'idle':\n",
    "        time.sleep(0.2)\n",
    "    while optimizerlogic.getState() != 'idle':\n",
    "        time.sleep(0.2)\n",
    "    time.sleep(5)\n",
    "    pos_end=scannerlogic.get_position()\n",
    "    print(counterlogic.countdata.mean(),abs(pos_end[0]-pos_start[0]))\n",
    "    if (abs(pos_end[0]-pos_start[0])>max_drift or abs(pos_end[1]-pos_start[1])>max_drift or \n",
    "       abs(pos_end[2]-pos_start[2])>max_drift or counterlogic.countdata.mean()<min_counts):\n",
    "        scannerlogic.set_position('',x=pos_start[0],y=pos_start[1],z=pos_start[2])\n",
    "        poimanagerlogic.set_new_position(poi,pos_start)\n",
    "        print(abs(pos_end[0]-pos_start[0])>max_drift or abs(pos_end[1]-pos_start[1])>max_drift or \n",
    "       abs(pos_end[2]-pos_start[2])>max_drift or counterlogic.countdata.mean()<min_counts)\n",
    "        return False\n",
    "        write_to_logfile('PositionRefocus_log', str(datetime.datetime.now()),name= setup['NV_name'], \n",
    "                     x_pos=pos_start[0], y_pos=pos_start[1], z_pos=pos_start[2],sucess=0)\n",
    "    write_to_logfile('PositionRefocus_log', str(datetime.datetime.now()),name= setup['NV_name'], \n",
    "                     x_pos=pos_end[0], y_pos=pos_end[1], z_pos=pos_end[2],sucess=1)\n",
    "    return True\n",
    "\n",
    "def do_hh_tau(save_tag='',load_tag=''):\n",
    "    \n",
    "    pulsedmasterlogic.do_fit('No Fit')\n",
    "    tau_arr = hh_tau['tau_start'] + np.arange(hh_tau['points']) * hh_tau['tau_incr']\n",
    "    # set parameters in analysis tab\n",
    "    if hh_tau['alternating']:\n",
    "        pulsedmasterlogic.measurement_sequence_settings_changed(tau_arr, 2*hh_tau['points'], 100e-6, [], hh_tau['alternating'])\n",
    "    else:\n",
    "        pulsedmasterlogic.measurement_sequence_settings_changed(tau_arr, hh_tau['points'], 100e-6, [], hh_tau['alternating'])\n",
    "    pulsedmasterlogic.fast_counter_settings_changed(setup['fc_binwidth'], setup['laser_length']+0.2e-6)\n",
    "    pulsedmasterlogic.analysis_interval_changed(1)\n",
    "    pulsedmeasurementlogic.measurement_tag = save_tag\n",
    "    # perform measurement\n",
    "    pulsedmasterlogic.start_measurement(load_tag)\n",
    "    while not pulsedmasterlogic.status_dict['measurement_running']:\n",
    "        time.sleep(0.5)\n",
    "    user_terminated = False\n",
    "    start_time = time.time()\n",
    "    while time.time() - start_time < hh_tau['measurement_time']:\n",
    "        if not pulsedmasterlogic.status_dict['measurement_running']:\n",
    "            user_terminated = True\n",
    "            break\n",
    "        time.sleep(0.5)\n",
    "    pulsedmasterlogic.stop_measurement(save_tag)\n",
    "    while pulsedmasterlogic.status_dict['measurement_running']:\n",
    "        time.sleep(0.5)\n",
    "    if save_tag=='':\n",
    "        pulsedmasterlogic.save_measurement_data('s','SpinLocking-'+str(hh_tau['order'])+'_'+setup['NV_name'],True)\n",
    "    \n",
    "    time.sleep(2)\n",
    "    return user_terminated\n",
    "\n",
    "def do_hh_tau_refocus(poi):\n",
    "    end_measure=False\n",
    "    #refocus_poi(poi)\n",
    "    hh_tau_total_time = hh_tau['measurement_time']\n",
    "    hh_tau_runtime = 0.0\n",
    "    hh_tau['measurement_time'] = hh_tau['refocus_interval']\n",
    "    end_measure = do_hh_tau('hh_tau_refocus','')\n",
    "    hh_tau_runtime += hh_tau['refocus_interval']\n",
    "    while hh_tau_total_time > hh_tau_runtime:\n",
    "        for i in range(1):\n",
    "            end_measure= not refocus_poi(poi)\n",
    "            if not end_measure:\n",
    "                break\n",
    "        if end_measure:\n",
    "            break\n",
    "        end_measure = do_hh_tau('hh_tau_refocus', 'hh_tau_refocus')\n",
    "        hh_tau_runtime += hh_tau['refocus_interval']\n",
    "        if end_measure:\n",
    "            break\n",
    "    hh_tau['measurement_time'] = hh_tau_total_time\n",
    "    # save measurement\n",
    "    pulsedmasterlogic.save_measurement_data('s','SpinLocking'+'_'+str(hh_tau['spinlock_amp'])+'_'+setup['NV_name'],True)\n",
    "    write_to_logfile('hh_tau_log', str(datetime.datetime.now()),name= setup['NV_name'],runtime=hh_tau_runtime)\n",
    "    time.sleep(2)\n",
    "    return end_measure"
   ]
  },
  {
   "cell_type": "code",
   "execution_count": 1,
   "metadata": {
    "collapsed": true
   },
   "outputs": [],
   "source": [
    "mw_freq = 1363.05e+6 # in MHz\n",
    "mw_power = -10\n",
    "\n",
    "pulsedmeasurement._pa.ext_control_mw_freq_DoubleSpinBox.setValue(mw_freq-0.1e+9)\n",
    "pulsedmeasurement._pa.ext_control_mw_power_DoubleSpinBox.setValue(mw_power)\n",
    "pulsedmeasurement.ext_mw_params_changed()"
   ]
  },
  {
   "cell_type": "code",
   "execution_count": null,
   "metadata": {
    "collapsed": true
   },
   "outputs": [],
   "source": []
  }
 ],
 "metadata": {
  "kernelspec": {
   "display_name": "Qudi",
   "language": "python",
   "name": "qudi"
  },
  "language_info": {
   "codemirror_mode": {
    "name": "ipython",
    "version": "3.6.0"
   },
   "file_extension": ".py",
   "mimetype": "text/x-python",
   "name": "python",
   "nbconvert_exporter": "python",
   "pygments_lexer": "ipython3",
   "version": "3.6.0"
  }
 },
 "nbformat": 4,
 "nbformat_minor": 2
}
