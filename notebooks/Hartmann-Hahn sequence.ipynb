{
 "cells": [
  {
   "cell_type": "markdown",
   "metadata": {},
   "source": [
    "# Hartmann Hahn polarising sequence"
   ]
  },
  {
   "cell_type": "code",
   "execution_count": 2,
   "metadata": {},
   "outputs": [],
   "source": [
    "from collections import OrderedDict\n",
    "import datetime\n",
    "import numpy as np\n",
    "import time\n",
    "import os\n",
    "\n",
    "try: \n",
    "    pulsedmasterlogic\n",
    "except NameError:\n",
    "    manager.startModule('logic', 'pulsedmasterlogic')\n",
    "try: \n",
    "    scannerlogic\n",
    "except NameError:\n",
    "    manager.startModule('logic', 'scannerlogic')\n",
    "try: \n",
    "    optimizer\n",
    "except NameError:\n",
    "    manager.startModule('logic', 'optimizer')\n",
    "try:\n",
    "    sequencegenerator\n",
    "except NameError:\n",
    "    manager.startModule('logic', 'sequencegenerator')\n",
    "try:\n",
    "    pulsedmeasurementlogic\n",
    "except NameError:\n",
    "    manager.startModule('gui', 'pulsedmeasurementlogic')   \n",
    "try:\n",
    "    poimanager\n",
    "except NameError:\n",
    "    manager.startModule('logic', 'poimaganer')  \n",
    "    \n",
    "def write_to_logfile(nametag, timestamp, name, **kwargs):\n",
    "    \"\"\" Write parameters to custom logfile with name nametag \"\"\"\n",
    "    if type(timestamp) is not str:\n",
    "        timestamp = str(timestamp)\n",
    "    parameters = list(kwargs)\n",
    "    if len(parameters) == 1 and type(kwargs[parameters[0]]) is OrderedDict:\n",
    "        param_dict = kwargs[parameters[0]]\n",
    "        parameters = list(param_dict)\n",
    "        kwargs = param_dict\n",
    "    log_dir = pulsedmeasurementlogic.savelogic().get_path_for_module('CustomLogfiles')\n",
    "    log_path = os.path.join(log_dir, nametag + '.txt')\n",
    "    if not os.path.isfile(log_path):\n",
    "        with open(log_path, 'w') as logfile:\n",
    "            logfile.write('# timestamp\\t')\n",
    "            logfile.write('# Name\\t')\n",
    "            for param in parameters:\n",
    "                logfile.write(param + '\\t')\n",
    "            logfile.write('\\n#\\n')\n",
    "    with open(log_path, 'a') as logfile:\n",
    "        logfile.write(timestamp + '\\t')\n",
    "        logfile.write(name + '\\t')\n",
    "        for param in parameters:\n",
    "            logfile.write('{0:3.6e}\\t'.format(kwargs[param]))\n",
    "        logfile.write('\\n')\n",
    "    return"
   ]
  },
  {
   "cell_type": "code",
   "execution_count": 20,
   "metadata": {},
   "outputs": [],
   "source": [
    "# Get the dictionary containing the default parameters for the desired sequence and alter the values as needed.\n",
    "# generate_params = pulsedmasterlogic.generate_method_params['rabi']\n",
    "generate_params=OrderedDict()\n",
    "generate_params['name'] = 'HHtauseq'\n",
    "generate_params['spinlock_amp'] = 0.125\n",
    "generate_params['tau_start'] = 0.5e-6\n",
    "generate_params['tau_step'] = 20.0e-6\n",
    "generate_params['num_of_points'] = 30\n",
    "generate_params['alternating'] = True\n",
    "\n",
    "# Call the actual generation method using a wrapper method and pass the parameter set\n",
    "pulsedmasterlogic.generate_predefined_sequence('Hartmann_Hahn_tau_sequence', generate_params)\n",
    "# Give it a moment to generate\n",
    "time.sleep(0.5)\n",
    "\n",
    "# The created object is a PulseBlockEnsemble instance, a recipe to create a waveform.\n",
    "# You can get all created PulseBlockEnsembles using this property (keys are ensemble names, values are the object instances):\n",
    "#for ensemble_name in pulsedmasterlogic.saved_pulse_block_ensembles.keys():\n",
    "#    print(ensemble_name)\n",
    "\n",
    "# The \"with_load\" flag can be used to also load the waveform into the channels after creating it\n",
    "pulsedmasterlogic.sample_sequence('HHtauseq', with_load=True)\n",
    "# Wait for the sampling to finish. There is a status dictionary that can be used to check for process status.\n",
    "while pulsedmasterlogic.status_dict['sampload_busy']:\n",
    "    time.sleep(0.1)\n",
    "    \n",
    "pulsedmasterlogic.set_measurement_settings(invoke_settings=False, \n",
    "                                           controlled_variable= generate_params['tau_start'] + \n",
    "                                           np.arange(generate_params['num_of_points'])*generate_params['tau_step'],\n",
    "                                           number_of_lasers=2*generate_params['num_of_points'], \n",
    "                                           laser_ignore_list=[], \n",
    "                                           alternating=True, \n",
    "                                           units=('s', 'arb. u.'))\n",
    "time.sleep(0.5)\n",
    "\n",
    "pulsedmasterlogic.set_fast_counter_settings(record_length=4.0e-6, number_of_gates=generate_params['num_of_points'])\n",
    "time.sleep(0.5)\n",
    "\n",
    "import winsound\n",
    "frequency = 300  # Set Frequency To 2500 Hertz\n",
    "duration = 1000  # Set Duration To 1000 ms == 1 second\n",
    "winsound.Beep(frequency, duration)\n",
    "# You can get a read-only view of the current measurement settings by using this property:\n",
    "# for setting, value in pulsedmasterlogic.measurement_settings.items():\n",
    "#     print('{0}:\\n  {1}'.format(setting, value))"
   ]
  },
  {
   "cell_type": "code",
   "execution_count": 23,
   "metadata": {},
   "outputs": [],
   "source": [
    "poi=poimanager.active_poi.get_key()\n",
    "NV_name =poimanager.poi_list[poi]._name"
   ]
  },
  {
   "cell_type": "code",
   "execution_count": 24,
   "metadata": {
    "scrolled": true
   },
   "outputs": [
    {
     "name": "stdout",
     "output_type": "stream",
     "text": [
      "151369.0 6.74269386128246e-08\n"
     ]
    },
    {
     "data": {
      "text/plain": [
       "True"
      ]
     },
     "execution_count": 24,
     "metadata": {},
     "output_type": "execute_result"
    }
   ],
   "source": [
    "refocus_poi(poi)"
   ]
  },
  {
   "cell_type": "code",
   "execution_count": 6,
   "metadata": {},
   "outputs": [],
   "source": [
    "pulsedmasterlogic.set_timer_interval(3)"
   ]
  },
  {
   "cell_type": "code",
   "execution_count": 7,
   "metadata": {},
   "outputs": [],
   "source": [
    "measurement_time = 3*60*60\n",
    "refocus_interval = 2*60"
   ]
  },
  {
   "cell_type": "code",
   "execution_count": 25,
   "metadata": {
    "scrolled": true
   },
   "outputs": [
    {
     "name": "stdout",
     "output_type": "stream",
     "text": [
      "151369.0 5.431746611270715e-08\n",
      "151369.0 6.739923563757553e-09\n",
      "151369.0 2.9972256354672045e-09\n",
      "151369.0 2.9022867106695766e-09\n",
      "151369.0 4.2753838137431395e-09\n",
      "151369.0 2.4000992762646762e-09\n",
      "151369.0 1.1210598590138553e-08\n",
      "151369.0 4.5192371231754535e-09\n",
      "151369.0 8.677255937370484e-10\n",
      "151369.0 1.2119822289737329e-08\n",
      "151369.0 6.970433000396303e-10\n",
      "151369.0 3.6288237140804378e-09\n",
      "151369.0 3.348888549689578e-09\n",
      "151369.0 2.7095025934473194e-09\n",
      "151369.0 2.557529060690097e-09\n",
      "151369.0 5.732752613967613e-09\n",
      "151369.0 1.2185507550509277e-09\n",
      "151369.0 2.8112670692065096e-09\n",
      "151369.0 4.0240328574186503e-10\n",
      "151369.0 8.655559253546458e-10\n",
      "151369.0 5.297077047421205e-10\n",
      "151369.0 1.9515223412478193e-09\n",
      "151369.0 3.6944215251719136e-09\n",
      "151369.0 4.344914583882028e-09\n",
      "151369.0 5.331205417805128e-09\n",
      "151369.0 1.3382651758072901e-09\n",
      "151369.0 1.2109098196235542e-08\n",
      "151369.0 1.5386024611899153e-09\n",
      "151369.0 7.669433486924007e-09\n",
      "151369.0 2.402273446694956e-09\n",
      "151369.0 6.3250569083307e-09\n",
      "151369.0 7.832376127552866e-09\n",
      "151369.0 9.72267061933647e-09\n",
      "151369.0 2.4544678010632814e-09\n",
      "151369.0 1.0809872202762947e-08\n",
      "151369.0 2.3113350350613382e-09\n",
      "151369.0 1.9366731970015243e-09\n",
      "151369.0 9.341852430036772e-10\n",
      "151369.0 4.725935124121549e-09\n",
      "151369.0 3.4379113682931305e-09\n",
      "151369.0 6.625491101797587e-10\n",
      "2D gaussian fit not successfull\n",
      "151369.0 0.0\n",
      "151369.0 6.248214036550133e-09\n",
      "151369.0 3.85394469139391e-09\n",
      "151369.0 2.109568380285955e-09\n",
      "151369.0 8.723460589304954e-09\n",
      "151369.0 6.043804376778573e-10\n",
      "151369.0 5.40568550276674e-10\n",
      "151369.0 3.3953993573392484e-09\n",
      "151369.0 5.606052046652809e-09\n",
      "151369.0 2.4763906051098426e-09\n",
      "151369.0 5.236191097276717e-10\n",
      "151369.0 8.187409800938837e-09\n",
      "151369.0 1.2901590161333056e-09\n",
      "151369.0 6.3566918262757425e-09\n",
      "151369.0 6.240729060979469e-09\n",
      "151369.0 6.374330670640355e-10\n",
      "151369.0 9.177959028690741e-10\n",
      "151369.0 5.551065430481035e-10\n",
      "151369.0 1.3371668423808577e-09\n",
      "151369.0 4.563711823255142e-09\n",
      "151369.0 1.6707094715117613e-10\n",
      "151369.0 3.8961555322617435e-11\n",
      "151369.0 3.320781853377575e-09\n",
      "151369.0 2.0568335494270274e-09\n",
      "151369.0 2.219959638411948e-09\n",
      "2D gaussian fit not successfull\n",
      "151369.0 0.0\n"
     ]
    },
    {
     "data": {
      "text/plain": [
       "True"
      ]
     },
     "execution_count": 25,
     "metadata": {},
     "output_type": "execute_result"
    }
   ],
   "source": [
    "do_hh_tau_refocus(poi, measurement_time, refocus_interval)"
   ]
  },
  {
   "cell_type": "code",
   "execution_count": 26,
   "metadata": {},
   "outputs": [],
   "source": [
    "# save measurement\n",
    "pulsedmasterlogic.save_measurement_data(tag='HHtauseq_'+str(generate_params['spinlock_amp'])+'_'+NV_name, with_error=True)"
   ]
  },
  {
   "cell_type": "code",
   "execution_count": 1,
   "metadata": {},
   "outputs": [],
   "source": [
    "def refocus_poi(poi=None, max_drift=0.5, min_counts=10e+3):\n",
    "    if poi==None:\n",
    "        return False\n",
    "    scannerlogic.stop_scanning()\n",
    "    poimanager.go_to_poi(poi)\n",
    "    pos_start = scannerlogic.get_position()\n",
    "    NV_name =poimanager.poi_list[poi]._name\n",
    "    poimanager.optimise_poi(poi)\n",
    "    while optimizer.module_state() == 'idle':\n",
    "        time.sleep(0.2)\n",
    "    while optimizer.module_state() != 'idle':\n",
    "        time.sleep(0.2)\n",
    "    time.sleep(5)\n",
    "    pos_end=scannerlogic.get_position()\n",
    "    print(counterlogic.countdata.mean(),abs(pos_end[0]-pos_start[0]))\n",
    "    if (abs(pos_end[0]-pos_start[0])>max_drift or abs(pos_end[1]-pos_start[1])>max_drift or \n",
    "       abs(pos_end[2]-pos_start[2])>max_drift or counterlogic.countdata.mean()<min_counts):\n",
    "        scannerlogic.set_position('',x=pos_start[0],y=pos_start[1],z=pos_start[2])\n",
    "        poimanager.set_new_position(poi,pos_start)\n",
    "        print(abs(pos_end[0]-pos_start[0])>max_drift or abs(pos_end[1]-pos_start[1])>max_drift or \n",
    "       abs(pos_end[2]-pos_start[2])>max_drift or counterlogic.countdata.mean()<min_counts)\n",
    "        return False\n",
    "        write_to_logfile('PositionRefocus_log', str(datetime.datetime.now()),name= NV_name, \n",
    "                     x_pos=pos_start[0], y_pos=pos_start[1], z_pos=pos_start[2],sucess=0)\n",
    "    write_to_logfile('PositionRefocus_log', str(datetime.datetime.now()),name= NV_name, \n",
    "                     x_pos=pos_end[0], y_pos=pos_end[1], z_pos=pos_end[2],sucess=1)\n",
    "    return True\n",
    "\n",
    "def do_hh_tau(m_time, save_tag='', stash_raw_data_tag = ''):\n",
    "    \n",
    "    pulsedmeasurementlogic.measurement_tag = save_tag\n",
    "    \n",
    "    # If everything is properly set, we can start a measurement simply by calling:\n",
    "    pulsedmasterlogic.toggle_pulsed_measurement(True, stash_raw_data_tag)\n",
    "    # Wait until the pulsedmeasurementlogic is actually busy and the measurement is running\n",
    "    while pulsedmeasurementlogic.module_state() != 'locked':\n",
    "        time.sleep(0.2)\n",
    "        \n",
    "    user_terminated = False\n",
    "    start_time = time.time()\n",
    "    while time.time() - start_time < m_time:\n",
    "        if pulsedmeasurementlogic.module_state()=='idle':\n",
    "            user_terminated = True\n",
    "            time.sleep(0.2)    \n",
    "            break\n",
    "        time.sleep(0.5)\n",
    "        \n",
    "    pulsedmasterlogic.toggle_pulsed_measurement(False, stash_raw_data_tag)\n",
    "    # Wait until the pulsedmeasurementlogic is actually idle and the measurement is stopped\n",
    "    while pulsedmeasurementlogic.module_state() == 'locked':\n",
    "        time.sleep(0.2)\n",
    "    \n",
    "    if save_tag=='':\n",
    "        pulsedmasterlogic.save_measurement_data(tag='HHtauseq_'+str(generate_params['spinlock_amp'])+'_'+NV_name, with_error=True)\n",
    "    time.sleep(2)\n",
    "    return user_terminated\n",
    "\n",
    "def do_hh_tau_refocus(poi, measurement_time, refocus_interval):\n",
    "    pulsedmeasurementlogic._saved_raw_data.clear()\n",
    "    end_measure=False\n",
    "    xy16_total_time = measurement_time\n",
    "    xy16_runtime = 0.0\n",
    "    measurement_time = refocus_interval\n",
    "    end_measure = do_hh_tau(refocus_interval, 'HHtauseq', 'HHtauseq')\n",
    "    xy16_runtime += refocus_interval\n",
    "    while xy16_total_time > xy16_runtime:\n",
    "        for i in range(1):\n",
    "            end_measure = not refocus_poi(poi)\n",
    "            if not end_measure:\n",
    "                break\n",
    "        if end_measure:\n",
    "            break\n",
    "        end_measure = do_hh_tau(refocus_interval, 'HHtauseq', 'HHtauseq')\n",
    "        xy16_runtime += refocus_interval\n",
    "        if end_measure:\n",
    "            break\n",
    "    write_to_logfile('HHtauseq', str(datetime.datetime.now()),name= NV_name, runtime=xy16_runtime)\n",
    "    time.sleep(2)\n",
    "    return end_measure"
   ]
  },
  {
   "cell_type": "code",
   "execution_count": null,
   "metadata": {},
   "outputs": [],
   "source": []
  }
 ],
 "metadata": {
  "kernelspec": {
   "display_name": "Qudi",
   "language": "python",
   "name": "qudi"
  },
  "language_info": {
   "codemirror_mode": {
    "name": "ipython",
    "version": "3.6.5"
   },
   "file_extension": ".py",
   "mimetype": "text/x-python",
   "name": "python",
   "nbconvert_exporter": "python",
   "pygments_lexer": "ipython3",
   "version": "3.6.5"
  }
 },
 "nbformat": 4,
 "nbformat_minor": 2
}
