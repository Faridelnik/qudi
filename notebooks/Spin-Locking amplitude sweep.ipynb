{
 "cells": [
  {
   "cell_type": "markdown",
   "metadata": {},
   "source": [
    "# Spin-Locking amplitude sweep"
   ]
  },
  {
   "cell_type": "code",
   "execution_count": 2,
   "metadata": {
    "collapsed": true
   },
   "outputs": [],
   "source": [
    "from collections import OrderedDict\n",
    "import datetime\n",
    "import numpy as np\n",
    "import time\n",
    "import os"
   ]
  },
  {
   "cell_type": "code",
   "execution_count": 3,
   "metadata": {
    "collapsed": false
   },
   "outputs": [],
   "source": [
    "try: \n",
    "    pulsedmasterlogic\n",
    "except NameError:\n",
    "    manager.startModule('logic', 'pulsedmasterlogic')\n",
    "try: \n",
    "    scannerlogic\n",
    "except NameError:\n",
    "    manager.startModule('logic', 'scannerlogic')\n",
    "try: \n",
    "    optimizerlogic\n",
    "except NameError:\n",
    "    manager.startModule('logic', 'optimizerlogic')\n",
    "try:\n",
    "    sequencegeneratorlogic\n",
    "except NameError:\n",
    "    manager.startModule('logic', 'sequencegeneratorlogic')\n",
    "try:\n",
    "    pulsedmeasurement\n",
    "except NameError:\n",
    "    manager.startModule('gui', 'pulsedmeasurement')   \n",
    "try:\n",
    "    poimanagerlogic\n",
    "except NameError:\n",
    "    manager.startModule('logic', 'poimaganerlogic')    "
   ]
  },
  {
   "cell_type": "code",
   "execution_count": 4,
   "metadata": {
    "collapsed": true
   },
   "outputs": [],
   "source": [
    "def write_to_logfile(nametag, timestamp, name, **kwargs):\n",
    "    \"\"\" Write parameters to custom logfile with name nametag \"\"\"\n",
    "    if type(timestamp) is not str:\n",
    "        timestamp = str(timestamp)\n",
    "    parameters = list(kwargs)\n",
    "    if len(parameters) == 1 and type(kwargs[parameters[0]]) is OrderedDict:\n",
    "        param_dict = kwargs[parameters[0]]\n",
    "        parameters = list(param_dict)\n",
    "        kwargs = param_dict\n",
    "    log_dir = pulsedmeasurement._save_logic.get_path_for_module('CustomLogfiles')\n",
    "    log_path = os.path.join(log_dir, nametag + '.txt')\n",
    "    if not os.path.isfile(log_path):\n",
    "        with open(log_path, 'w') as logfile:\n",
    "            logfile.write('# timestamp\\t')\n",
    "            logfile.write('# Name\\t')\n",
    "            for param in parameters:\n",
    "                logfile.write(param + '\\t')\n",
    "            logfile.write('\\n#\\n')\n",
    "    with open(log_path, 'a') as logfile:\n",
    "        logfile.write(timestamp + '\\t')\n",
    "        logfile.write(name + '\\t')\n",
    "        for param in parameters:\n",
    "            logfile.write('{0:3.6e}\\t'.format(kwargs[param]))\n",
    "        logfile.write('\\n')\n",
    "    return"
   ]
  },
  {
   "cell_type": "code",
   "execution_count": 5,
   "metadata": {
    "collapsed": false
   },
   "outputs": [],
   "source": [
    "# static hardware parameters:\n",
    "setup = OrderedDict()\n",
    "setup['sampling_freq'] = pulsedmeasurementlogic.sample_rate\n",
    "setup['fc_binwidth'] = pulsedmeasurementlogic.fast_counter_binwidth\n",
    "setup['wait_length'] = 1.5e-6\n",
    "setup['aom_delay'] = 500e-9\n",
    "#setup['channel_config_name'] = pulsedmeasurement.current_channel_config_name\n",
    "setup['seq_trig']=''\n",
    "setup['gate']='d_ch2'\n",
    "setup['NV_name']='NV5'\n",
    "setup['poi'] = poimanagerlogic.active_poi.get_key()\n",
    "setup['laser_length'] = 4.0e-6\n",
    "setup[\"min_counts\"] = 10000 # if after a refocus only 40kcounts are measured the refocus is repeated up to max 3 times\n",
    "# Set amplitude in logic and pulser hardware:\n",
    "amp_dict = OrderedDict()\n",
    "amp_dict['a_ch1'] = 0.25\n",
    "amp_dict['a_ch2'] = 0.0\n",
    "AWG5014C.amplitude_dict = amp_dict\n",
    "#pulsedmaster.pulse_generator_settings_changed(setup['sampling_freq'], setup['channel_config_name'], amp_dict, False)"
   ]
  },
  {
   "cell_type": "code",
   "execution_count": 10,
   "metadata": {
    "collapsed": false
   },
   "outputs": [],
   "source": [
    "# for single frequency XY8-N:\n",
    "hh_amp_sweep = OrderedDict()\n",
    "hh_amp_sweep['mw_amp'] = 0.25\n",
    "hh_amp_sweep['spinlock_amp_start'] = 0.113\n",
    "hh_amp_sweep['spinlock_amp_end'] = 0.123\n",
    "hh_amp_sweep['points'] = 40\n",
    "hh_amp_sweep['mw_freq'] = 100e6\n",
    "hh_amp_sweep['tau'] = 60.0 * 1e-6\n",
    "hh_amp_sweep['measurement_time'] = 240*60\n",
    "hh_amp_sweep['refocus_interval'] = 3*60\n",
    "hh_amp_sweep['alternating']=True\n",
    "hh_amp_sweep['rabi_period']=205.7*1e-9"
   ]
  },
  {
   "cell_type": "code",
   "execution_count": 11,
   "metadata": {
    "collapsed": false
   },
   "outputs": [
    {
     "name": "stdout",
     "output_type": "stream",
     "text": [
      "<logic.pulse_objects.PulseSequence object at 0x000001CC09405BA8>\n"
     ]
    }
   ],
   "source": [
    "# generate new HH sequence\n",
    "sequencegeneratorlogic.delete_sequence('HH_amp_sweep')    \n",
    "sequencegeneratorlogic.generate_HH_amp_sweep_sequence('HH_amp_sweep', hh_amp_sweep['rabi_period'],\n",
    "                             hh_amp_sweep['spinlock_amp_start'], hh_amp_sweep['spinlock_amp_end'], 100e6, 0.25, \n",
    "                             hh_amp_sweep['tau'], hh_amp_sweep['points'], 'a_ch1', 3.0e-6, 2.0, 0.7e-6, 1.0e-6, \n",
    "                             '', 'd_ch2', True)\n",
    "\n",
    "# sample, upload and load waveform\n",
    "if 'HH_amp_sweep' not in sequencegeneratorlogic.saved_pulse_sequences:\n",
    "    sequencegeneratorlogic.log.error('Sequence generation of HH_amp_sweep in notebook timed out.')\n",
    "pulsedmasterlogic.sample_sequence('HH_amp_sweep', True)\n",
    "\n",
    "while pulsedmasterlogic.status_dict['sauplo_sequence_busy'] or pulsedmasterlogic.status_dict['loading_busy']:\n",
    "        time.sleep(5)\n",
    "\n",
    "import winsound\n",
    "frequency = 300  # Set Frequency To 2500 Hertz\n",
    "duration = 1000  # Set Duration To 1000 ms == 1 second\n",
    "winsound.Beep(frequency, duration)\n"
   ]
  },
  {
   "cell_type": "code",
   "execution_count": 12,
   "metadata": {
    "collapsed": false,
    "scrolled": false
   },
   "outputs": [
    {
     "name": "stdout",
     "output_type": "stream",
     "text": [
      "186143.0 3.2824039515309844e-08\n"
     ]
    },
    {
     "data": {
      "text/plain": [
       "True"
      ]
     },
     "execution_count": 12,
     "metadata": {},
     "output_type": "execute_result"
    }
   ],
   "source": [
    "refocus_poi(setup['poi'])"
   ]
  },
  {
   "cell_type": "code",
   "execution_count": 13,
   "metadata": {
    "collapsed": false,
    "scrolled": true
   },
   "outputs": [
    {
     "name": "stdout",
     "output_type": "stream",
     "text": [
      "186143.0 3.4190693054656114e-08\n",
      "186143.0 9.892208885358019e-10\n",
      "186143.0 6.35048120918569e-09\n",
      "2D gaussian fit not successfull\n",
      "186143.0 0.0\n",
      "186143.0 4.373488913433427e-09\n",
      "2D gaussian fit not successfull\n",
      "186143.0 0.0\n",
      "186143.0 8.943363812885551e-10\n",
      "186143.0 1.9712105646742023e-09\n",
      "2D gaussian fit not successfull\n",
      "186143.0 0.0\n",
      "186143.0 6.238922099586076e-10\n",
      "186143.0 4.522063194858033e-09\n",
      "186143.0 8.15786781618817e-09\n",
      "186143.0 4.35020297429446e-09\n",
      "2D gaussian fit not successfull\n",
      "186143.0 0.0\n",
      "186143.0 1.010175626050343e-09\n",
      "186143.0 2.0640129254104428e-09\n",
      "186143.0 4.158708950426478e-09\n",
      "186143.0 2.1938028930394585e-09\n",
      "186143.0 1.1799245623931405e-09\n",
      "186143.0 8.649579268803123e-10\n",
      "186143.0 2.244504398089635e-09\n",
      "186143.0 6.318634368306748e-11\n",
      "186143.0 2.326770027162101e-09\n",
      "2D gaussian fit not successfull\n",
      "186143.0 0.0\n",
      "186143.0 4.634245247266231e-09\n",
      "186143.0 8.077168624088106e-10\n",
      "186143.0 4.343517643552231e-09\n",
      "186143.0 3.838428837946747e-09\n",
      "186143.0 3.797543056234466e-09\n",
      "186143.0 1.0579165871167531e-09\n",
      "186143.0 2.876220568708227e-09\n",
      "186143.0 1.693047190635987e-09\n",
      "2D gaussian fit not successfull\n",
      "186143.0 0.0\n",
      "186143.0 1.175172974001389e-08\n",
      "186143.0 2.676521753779544e-09\n",
      "186143.0 1.3827360146398545e-09\n",
      "186143.0 1.8076131431588494e-09\n",
      "186143.0 2.3500529802117733e-09\n",
      "186143.0 5.247151657457669e-09\n",
      "186143.0 3.835370121353616e-09\n",
      "186143.0 4.681270977194979e-09\n",
      "186143.0 1.3843672315028285e-09\n",
      "186143.0 8.543188114981724e-10\n",
      "186143.0 2.750001916723005e-10\n",
      "186143.0 1.0811213136688124e-08\n",
      "186143.0 6.220016401310463e-09\n",
      "186143.0 1.0009045112838763e-09\n",
      "2D gaussian fit not successfull\n",
      "186143.0 0.0\n",
      "2D gaussian fit not successfull\n",
      "186143.0 0.0\n",
      "186143.0 1.2723131784208566e-08\n",
      "186143.0 2.8500595088412834e-09\n",
      "186143.0 3.843295949179765e-08\n"
     ]
    },
    {
     "name": "stderr",
     "output_type": "stream",
     "text": [
      "Traceback (most recent call last):\n",
      "  File \"C:\\Users\\pi3\\Documents\\GitHub\\qudi\\logic\\pulsed_measurement_logic.py\", line 885, in stop_pulsed_measurement\n",
      "    self.pulse_generator_off()\n",
      "  File \"C:\\Users\\pi3\\Documents\\GitHub\\qudi\\logic\\pulsed_measurement_logic.py\", line 455, in pulse_generator_off\n",
      "    self._pulse_generator_device.set_active_channels({'a_ch1': False, 'a_ch2': False}) # to swich on the laser\n",
      "  File \"C:\\Users\\pi3\\Documents\\GitHub\\qudi\\hardware\\awg\\tektronix_awg5014c.py\", line 955, in set_active_channels\n",
      "    return self.get_active_channels(ch=list(ch))\n",
      "  File \"C:\\Users\\pi3\\Documents\\GitHub\\qudi\\hardware\\awg\\tektronix_awg5014c.py\", line 877, in get_active_channels\n",
      "    active_ch[channel] = bool(int(self.ask('OUTPUT{0}:STATE?'.format(ana_chan))))\n",
      "ValueError: invalid literal for int() with base 10: ''\n",
      "Traceback (most recent call last):\n",
      "  File \"C:\\Users\\pi3\\Documents\\GitHub\\qudi\\logic\\pulsed_measurement_logic.py\", line 885, in stop_pulsed_measurement\n",
      "    self.pulse_generator_off()\n",
      "  File \"C:\\Users\\pi3\\Documents\\GitHub\\qudi\\logic\\pulsed_measurement_logic.py\", line 454, in pulse_generator_off\n",
      "    err = self._pulse_generator_device.pulser_off()\n",
      "  File \"C:\\Users\\pi3\\Documents\\GitHub\\qudi\\hardware\\awg\\tektronix_awg5014c.py\", line 268, in pulser_off\n",
      "    return self.get_status()[0]\n",
      "TypeError: 'int' object is not subscriptable\n"
     ]
    },
    {
     "data": {
      "text/plain": [
       "True"
      ]
     },
     "execution_count": 13,
     "metadata": {},
     "output_type": "execute_result"
    }
   ],
   "source": [
    "do_HH_amp_sweep_refocus(setup['poi'])"
   ]
  },
  {
   "cell_type": "code",
   "execution_count": 1,
   "metadata": {
    "collapsed": false
   },
   "outputs": [],
   "source": [
    "def refocus_poi(poi=None, max_drift=0.3,min_counts=setup[\"min_counts\"]):\n",
    "    if poi==None:\n",
    "        return False\n",
    "#     pulsedmasterlogic.load_asset_into_channels('Laser_On')\n",
    "#     while pulsedmasterlogic.status_dict['loading_busy']:\n",
    "#         time.sleep(0.5)\n",
    "#     pulsedmasterlogic.toggle_pulse_generator(False)\n",
    "#     time.sleep(0.5)\n",
    "    # perform refocus\n",
    "    scannerlogic.stop_scanning()\n",
    "    poimanagerlogic.go_to_poi(poi)\n",
    "    pos_start = scannerlogic.get_position()\n",
    "    setup['NV_name']=poimanagerlogic.poi_list[poi]._name\n",
    "    poimanagerlogic.optimise_poi(poi)\n",
    "    while optimizerlogic.module_state() == 'idle':\n",
    "        time.sleep(0.2)\n",
    "    while optimizerlogic.module_state() != 'idle':\n",
    "        time.sleep(0.2)\n",
    "    time.sleep(5)\n",
    "    pos_end=scannerlogic.get_position()\n",
    "    print(counterlogic.countdata.mean(),abs(pos_end[0]-pos_start[0]))\n",
    "    if (abs(pos_end[0]-pos_start[0])>max_drift or abs(pos_end[1]-pos_start[1])>max_drift or \n",
    "       abs(pos_end[2]-pos_start[2])>max_drift or counterlogic.countdata.mean()<min_counts):\n",
    "        scannerlogic.set_position('',x=pos_start[0],y=pos_start[1],z=pos_start[2])\n",
    "        poimanagerlogic.set_new_position(poi,pos_start)\n",
    "        print(abs(pos_end[0]-pos_start[0])>max_drift or abs(pos_end[1]-pos_start[1])>max_drift or \n",
    "       abs(pos_end[2]-pos_start[2])>max_drift or counterlogic.countdata.mean()<min_counts)\n",
    "        return False\n",
    "        write_to_logfile('PositionRefocus_log', str(datetime.datetime.now()),name= setup['NV_name'], \n",
    "                     x_pos=pos_start[0], y_pos=pos_start[1], z_pos=pos_start[2],sucess=0)\n",
    "    write_to_logfile('PositionRefocus_log', str(datetime.datetime.now()),name= setup['NV_name'], \n",
    "                     x_pos=pos_end[0], y_pos=pos_end[1], z_pos=pos_end[2],sucess=1)\n",
    "    return True\n",
    "\n",
    "def do_HH_amp_sweep(save_tag='',load_tag=''):\n",
    "    \n",
    "    pulsedmasterlogic.do_fit('No Fit')\n",
    "    mw_array = np.linspace(hh_amp_sweep['spinlock_amp_start'], hh_amp_sweep['spinlock_amp_end'],\n",
    "                           hh_amp_sweep['points'])\n",
    "    # set parameters in analysis tab\n",
    "    if hh_amp_sweep['alternating']:\n",
    "        pulsedmasterlogic.measurement_sequence_settings_changed(mw_array, 2*hh_amp_sweep['points'], 100e-6, [],\n",
    "                                                                hh_amp_sweep['alternating'])\n",
    "    else:\n",
    "        pulsedmasterlogic.measurement_sequence_settings_changed(mw_array, hh_amp_sweep['points'], 100e-6, [], \n",
    "                                                                hh_amp_sweep['alternating'])\n",
    "    pulsedmasterlogic.fast_counter_settings_changed(setup['fc_binwidth'], setup['laser_length'], 2*hh_amp_sweep['points'])\n",
    "    pulsedmasterlogic.analysis_interval_changed(2)\n",
    "    pulsedmeasurementlogic.measurement_tag = save_tag\n",
    "    # perform measurement\n",
    "    pulsedmasterlogic.start_measurement(load_tag)\n",
    "    while not pulsedmasterlogic.status_dict['measurement_running']:\n",
    "        time.sleep(0.5)\n",
    "    user_terminated = False\n",
    "    start_time = time.time()\n",
    "    while time.time() - start_time < hh_amp_sweep['measurement_time']:\n",
    "        if not pulsedmasterlogic.status_dict['measurement_running']:\n",
    "            user_terminated = True\n",
    "            break\n",
    "        time.sleep(0.5)\n",
    "    pulsedmasterlogic.stop_measurement(save_tag)\n",
    "    while pulsedmasterlogic.status_dict['measurement_running']:\n",
    "        time.sleep(0.5)\n",
    "    if save_tag=='':\n",
    "        pulsedmasterlogic.save_measurement_data('s','Spin_Locking_amp_sweep-'+str(hh_amp_sweep['tau'])\n",
    "                                                +'_'+setup['NV_name'],True, False)\n",
    "    time.sleep(2)\n",
    "    return user_terminated\n",
    "\n",
    "def do_HH_amp_sweep_refocus(poi):\n",
    "    end_measure=False\n",
    "    #refocus_poi(poi)\n",
    "    hh_amp_sweep_total_time = hh_amp_sweep['measurement_time']\n",
    "    hh_amp_sweep_runtime = 0.0\n",
    "    hh_amp_sweep['measurement_time'] = hh_amp_sweep['refocus_interval']\n",
    "    end_measure = do_HH_amp_sweep('hh_amp_sweep','')\n",
    "    hh_amp_sweep_runtime += hh_amp_sweep['refocus_interval']\n",
    "    while hh_amp_sweep_total_time > hh_amp_sweep_runtime:\n",
    "        for i in range(1):\n",
    "            end_measure= not refocus_poi(poi)\n",
    "            if not end_measure:\n",
    "                break\n",
    "        if end_measure:\n",
    "            break\n",
    "        end_measure = do_HH_amp_sweep('hh_amp_sweep', 'hh_amp_sweep')\n",
    "        hh_amp_sweep_runtime += hh_amp_sweep['refocus_interval']\n",
    "        if end_measure:\n",
    "            break\n",
    "    hh_amp_sweep['measurement_time'] = hh_amp_sweep_total_time\n",
    "    # save measurement\n",
    "    pulsedmasterlogic.save_measurement_data('s','Spin_Locking_amp_sweep-'+str(hh_amp_sweep['tau'])\n",
    "                                                +'_'+setup['NV_name'],True, False)\n",
    "    write_to_logfile('HH_amp_sweep', str(datetime.datetime.now()),name= setup['NV_name'],\n",
    "                     runtime=hh_amp_sweep_runtime)\n",
    "    time.sleep(2)\n",
    "    return end_measure"
   ]
  },
  {
   "cell_type": "code",
   "execution_count": 6,
   "metadata": {
    "collapsed": true
   },
   "outputs": [],
   "source": [
    "mw_freq = 1392.82e+6 # in MHz\n",
    "mw_power = -15\n",
    "\n",
    "pulsedmeasurement._pa.ext_control_mw_freq_DoubleSpinBox.setValue(mw_freq-0.1e+9)\n",
    "pulsedmeasurement._pa.ext_control_mw_power_DoubleSpinBox.setValue(mw_power)\n",
    "pulsedmeasurement.ext_mw_params_changed()"
   ]
  },
  {
   "cell_type": "code",
   "execution_count": null,
   "metadata": {
    "collapsed": true
   },
   "outputs": [],
   "source": []
  }
 ],
 "metadata": {
  "kernelspec": {
   "display_name": "Qudi",
   "language": "python",
   "name": "qudi"
  },
  "language_info": {
   "codemirror_mode": {
    "name": "ipython",
    "version": "3.6.0"
   },
   "file_extension": ".py",
   "mimetype": "text/x-python",
   "name": "python",
   "nbconvert_exporter": "python",
   "pygments_lexer": "ipython3",
   "version": "3.6.0"
  }
 },
 "nbformat": 4,
 "nbformat_minor": 2
}
