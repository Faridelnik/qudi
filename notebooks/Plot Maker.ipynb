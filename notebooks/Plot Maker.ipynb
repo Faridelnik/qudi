{
 "cells": [
  {
   "cell_type": "code",
   "execution_count": 7,
   "metadata": {
    "collapsed": false
   },
   "outputs": [],
   "source": [
    "my_files=['G:/data/QudiData/2018/02/20180208/PulsedMeasurement/20180208-1854-53_NV3_WaitingSpinLocking_0.1126_NV3_pulsed_measurement.dat',\n",
    "         'G:/data/QudiData/2018/02/20180208/PulsedMeasurement/20180208-1946-26_NV3_SpinLocking_0.1126_NV3_pulsed_measurement.dat']\n",
    "contrast=30\n",
    "N=16"
   ]
  },
  {
   "cell_type": "code",
   "execution_count": 8,
   "metadata": {
    "collapsed": false
   },
   "outputs": [],
   "source": [
    "import numpy as np\n",
    "\n",
    "# for i in range(len(my_files)):\n",
    "myfile=my_files[0]\n",
    "f = open(myfile, 'r')\n",
    "lines = f.readlines()\n",
    "result = []\n",
    "for x in lines:\n",
    "    result.append(x.split('#')[0])\n",
    "f.close()\n",
    "a = [x for x in result if x != '']\n",
    "    \n",
    "evolution_time = np.zeros(len(a))\n",
    "counts1 = np.zeros(len(a))\n",
    "error1 = np.zeros(len(a))\n",
    "counts2 = np.zeros(len(a))\n",
    "error2 = np.zeros(len(a))\n",
    "\n",
    "for i in range(len(a)):\n",
    "    evolution_time[i]=np.asarray(a[i].split(), dtype=np.float32)[0]\n",
    "    counts1[i] = np.asarray(a[i].split(), dtype=np.float32)[1]\n",
    "    error1[i] = np.asarray(a[i].split(), dtype=np.float32)[3]\n",
    "    counts2[i] = np.asarray(a[i].split(), dtype=np.float32)[2]\n",
    "    error2[i] = np.asarray(a[i].split(), dtype=np.float32)[4]\n",
    "\n",
    "baseline = np.sum(counts2+counts1)/len(counts2)/2\n",
    "C0_up = baseline / (1 - 0.01 * contrast / 2)\n",
    "C0_down = C0_up * (1 - 0.01 * contrast)\n",
    "counts = counts2 - counts1\n",
    "\n",
    "T = evolution_time * 10 * N\n",
    "\n",
    "normalized_counts = (counts) / (C0_up - C0_down)\n",
    "freq=0.5/evolution_time/1.0e+6"
   ]
  },
  {
   "cell_type": "code",
   "execution_count": 9,
   "metadata": {
    "collapsed": false
   },
   "outputs": [],
   "source": [
    "import numpy as np\n",
    "\n",
    "# for i in range(len(my_files)):\n",
    "myfile=my_files[1]\n",
    "f = open(myfile, 'r')\n",
    "lines = f.readlines()\n",
    "result = []\n",
    "for x in lines:\n",
    "    result.append(x.split('#')[0])\n",
    "f.close()\n",
    "a = [x for x in result if x != '']\n",
    "    \n",
    "evolution_time2 = np.zeros(len(a))\n",
    "counts1 = np.zeros(len(a))\n",
    "error1 = np.zeros(len(a))\n",
    "counts2 = np.zeros(len(a))\n",
    "error2 = np.zeros(len(a))\n",
    "\n",
    "for i in range(len(a)):\n",
    "    evolution_time2[i]=np.asarray(a[i].split(), dtype=np.float32)[0]\n",
    "    counts1[i] = np.asarray(a[i].split(), dtype=np.float32)[1]\n",
    "    error1[i] = np.asarray(a[i].split(), dtype=np.float32)[3]\n",
    "    counts2[i] = np.asarray(a[i].split(), dtype=np.float32)[2]\n",
    "    error2[i] = np.asarray(a[i].split(), dtype=np.float32)[4]\n",
    "\n",
    "baseline = np.sum(counts2+counts1)/len(counts2)/2\n",
    "C0_up = baseline / (1 - 0.01 * contrast / 2)\n",
    "C0_down = C0_up * (1 - 0.01 * contrast)\n",
    "counts = counts2 - counts1\n",
    "\n",
    "T = evolution_time * 10 * N\n",
    "\n",
    "normalized_counts2 = (counts) / (C0_up - C0_down)\n",
    "freq=0.5/evolution_time/1.0e+6"
   ]
  },
  {
   "cell_type": "code",
   "execution_count": 12,
   "metadata": {
    "collapsed": false
   },
   "outputs": [
    {
     "data": {
      "text/plain": [
       "'file://C:\\\\Users\\\\pi3\\\\Documents\\\\GitHub\\\\qudi\\\\scatter-mode.html'"
      ]
     },
     "execution_count": 12,
     "metadata": {},
     "output_type": "execute_result"
    }
   ],
   "source": [
    "from plotly import __version__\n",
    "from plotly.offline import init_notebook_mode, plot\n",
    "from plotly.graph_objs import Scatter\n",
    "\n",
    "init_notebook_mode()\n",
    "\n",
    "trace1 = Scatter(\n",
    "    x = evolution_time*1e+6,\n",
    "    y = normalized_counts-normalized_counts2,\n",
    "    error_y=dict(\n",
    "            type='data',\n",
    "            array=error2,\n",
    "            visible=True\n",
    "                ),\n",
    "    mode = 'lines+markers',\n",
    "    name = 'lines'\n",
    ")\n",
    "\n",
    "trace2 = Scatter(\n",
    "    x = evolution_time*1e+6,\n",
    "    y = normalized_counts2,\n",
    "    error_y=dict(\n",
    "            type='data',\n",
    "            array=error2,\n",
    "            visible=True\n",
    "                ),\n",
    "    mode = 'lines+markers',\n",
    "    name = 'just locking'\n",
    ")\n",
    "trace3 = Scatter(\n",
    "    x = evolution_time*1e+6,\n",
    "    y = normalized_counts,\n",
    "    error_y=dict(\n",
    "            type='data',\n",
    "            array=error2,\n",
    "            visible=True\n",
    "                ),\n",
    "    mode = 'lines+markers',\n",
    "    name = 'with waiting'\n",
    ")\n",
    "\n",
    "\n",
    "plot_data = [trace2, trace3]\n",
    "plot(plot_data, filename='scatter-mode')"
   ]
  },
  {
   "cell_type": "code",
   "execution_count": 31,
   "metadata": {
    "collapsed": true
   },
   "outputs": [],
   "source": [
    "np.savetxt('G:/data/QudiData/2018/01/20180119/PulsedMeasurement/counts_kddxy_6_pol.txt', normalized_counts, delimiter=',')\n",
    "np.savetxt('G:/data/QudiData/2018/01/20180119/PulsedMeasurement/freq_kddxy_6_pol.txt', freq, delimiter=',')"
   ]
  },
  {
   "cell_type": "code",
   "execution_count": 23,
   "metadata": {
    "collapsed": false
   },
   "outputs": [
    {
     "name": "stdout",
     "output_type": "stream",
     "text": [
      "[ 0.15169233  2.41114487  0.05723856]\n"
     ]
    }
   ],
   "source": [
    "import pylab as plb\n",
    "from scipy.optimize import curve_fit\n",
    "from scipy import asarray as ar,exp\n",
    "\n",
    "x=0.5/evolution_time/1.0e+6\n",
    "y=normalized_counts\n",
    "\n",
    "n = len(x)                          #the number of data\n",
    "mean = sum(x*y)/n                   #note this correction\n",
    "sigma = sum(y*(x-mean)**2)/n        #note this correction\n",
    "\n",
    "def gaus(x,a,x0,sigma):\n",
    "    return y[0]-a*exp(-(x-x0)**2/(2*sigma**2))\n",
    "\n",
    "popt,pcov = curve_fit(gaus,x,y,p0=[0.3, 2.4, 0.1])\n",
    "\n",
    "print(popt)"
   ]
  },
  {
   "cell_type": "code",
   "execution_count": 30,
   "metadata": {
    "collapsed": false
   },
   "outputs": [
    {
     "data": {
      "text/plain": [
       "'file://C:\\\\Users\\\\pi3\\\\Documents\\\\GitHub\\\\qudi\\\\scatter-mode.html'"
      ]
     },
     "execution_count": 30,
     "metadata": {},
     "output_type": "execute_result"
    }
   ],
   "source": [
    "from plotly import __version__\n",
    "from plotly.offline import init_notebook_mode, plot\n",
    "from plotly.graph_objs import Scatter\n",
    "\n",
    "init_notebook_mode()\n",
    "\n",
    "# print(\"plotly version:\", __version__)\n",
    "\n",
    "freq=0.5/evolution_time/1.0e+6\n",
    "popt=[ 0.15,  2.41,  0.03]\n",
    "\n",
    "trace1 = Scatter(\n",
    "    x = freq,\n",
    "    y = normalized_counts,\n",
    "    mode = 'lines+markers',\n",
    "    name = 'lines+markers'\n",
    ")\n",
    "trace2 = Scatter(\n",
    "    x = np.linspace(freq.max(), freq.min(), 200),\n",
    "    y = gaus(np.linspace(freq.max(), freq.min(), 200), *popt)-0.2,\n",
    "    mode = 'lines',\n",
    "    name = 'lines'\n",
    ")\n",
    "\n",
    "plot_data = [trace1, trace2]\n",
    "plot(plot_data, filename='scatter-mode')"
   ]
  },
  {
   "cell_type": "code",
   "execution_count": 6,
   "metadata": {
    "collapsed": false
   },
   "outputs": [
    {
     "data": {
      "text/plain": [
       "'file://C:\\\\Users\\\\pi3\\\\Documents\\\\GitHub\\\\qudi\\\\scatter-mode.html'"
      ]
     },
     "execution_count": 6,
     "metadata": {},
     "output_type": "execute_result"
    }
   ],
   "source": [
    "from plotly import __version__\n",
    "from plotly.offline import init_notebook_mode, plot\n",
    "from plotly.graph_objs import Scatter\n",
    "\n",
    "# t=np.linspace(0, 2*4*300e-9, 200)\n",
    "# y=np.sin(2*np.pi*2.4*1e+6*t)\n",
    "\n",
    "t=np.linspace(0, 4, 200)\n",
    "y=np.exp(-t)\n",
    "\n",
    "trace = Scatter(\n",
    "    x = t,\n",
    "    y = y,\n",
    "    mode = 'lines',\n",
    "    name = 'lines'\n",
    ")\n",
    "\n",
    "plot_data = [trace]\n",
    "plot(plot_data, filename='scatter-mode')"
   ]
  },
  {
   "cell_type": "code",
   "execution_count": 53,
   "metadata": {
    "collapsed": false
   },
   "outputs": [
    {
     "data": {
      "text/plain": [
       "array([ 2.52525259,  2.51256283,  2.49999997,  2.48756212,  2.47524758,\n",
       "        2.4630542 ,  2.45098036,  2.43902432,  2.42718452,  2.41545894,\n",
       "        2.40384612,  2.39234442,  2.38095243,  2.36966825,  2.35849053,\n",
       "        2.34741776,  2.33644864,  2.3255814 ,  2.31481478,  2.30414754,\n",
       "        2.29357802])"
      ]
     },
     "execution_count": 53,
     "metadata": {},
     "output_type": "execute_result"
    }
   ],
   "source": [
    "freq"
   ]
  },
  {
   "cell_type": "code",
   "execution_count": null,
   "metadata": {
    "collapsed": true
   },
   "outputs": [],
   "source": []
  }
 ],
 "metadata": {
  "kernelspec": {
   "display_name": "Qudi",
   "language": "python",
   "name": "qudi"
  },
  "language_info": {
   "codemirror_mode": {
    "name": "ipython",
    "version": "3.6.0"
   },
   "file_extension": ".py",
   "mimetype": "text/x-python",
   "name": "python",
   "nbconvert_exporter": "python",
   "pygments_lexer": "ipython3",
   "version": "3.6.0"
  }
 },
 "nbformat": 4,
 "nbformat_minor": 2
}
