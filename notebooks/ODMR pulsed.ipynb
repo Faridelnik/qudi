{
 "cells": [
  {
   "cell_type": "markdown",
   "metadata": {},
   "source": [
    "Pulsed ODMR"
   ]
  },
  {
   "cell_type": "code",
   "execution_count": 3,
   "metadata": {},
   "outputs": [],
   "source": [
    "from collections import OrderedDict\n",
    "import datetime\n",
    "import numpy as np\n",
    "import time\n",
    "import os\n",
    "\n",
    "try: \n",
    "    pulsedmasterlogic\n",
    "except NameError:\n",
    "    manager.startModule('logic', 'pulsedmasterlogic')\n",
    "try: \n",
    "    scannerlogic\n",
    "except NameError:\n",
    "    manager.startModule('logic', 'scannerlogic')\n",
    "try: \n",
    "    optimizer\n",
    "except NameError:\n",
    "    manager.startModule('logic', 'optimizerlogic')\n",
    "try:\n",
    "    sequencegenerator\n",
    "except NameError:\n",
    "    manager.startModule('logic', 'sequencegenerator')\n",
    "try:\n",
    "    pulsedmeasurement\n",
    "except NameError:\n",
    "    manager.startModule('gui', 'pulsedmeasurement')  \n",
    "\n",
    "def write_to_logfile(nametag, timestamp, name, **kwargs):\n",
    "    \"\"\" Write parameters to custom logfile with name nametag \"\"\"\n",
    "    if type(timestamp) is not str:\n",
    "        timestamp = str(timestamp)\n",
    "    parameters = list(kwargs)\n",
    "    if len(parameters) == 1 and type(kwargs[parameters[0]]) is OrderedDict:\n",
    "        param_dict = kwargs[parameters[0]]\n",
    "        parameters = list(param_dict)\n",
    "        kwargs = param_dict\n",
    "    log_dir = pulsedmeasurement._save_logic.get_path_for_module('CustomLogfiles')\n",
    "    log_path = os.path.join(log_dir, nametag + '.txt')\n",
    "    if not os.path.isfile(log_path):\n",
    "        with open(log_path, 'w') as logfile:\n",
    "            logfile.write('# timestamp\\t')\n",
    "            logfile.write('# Name\\t')\n",
    "            for param in parameters:\n",
    "                logfile.write(param + '\\t')\n",
    "            logfile.write('\\n#\\n')\n",
    "    with open(log_path, 'a') as logfile:\n",
    "        logfile.write(timestamp + '\\t')\n",
    "        logfile.write(name + '\\t')\n",
    "        for param in parameters:\n",
    "            logfile.write('{0:3.6e}\\t'.format(kwargs[param]))\n",
    "        logfile.write('\\n')\n",
    "    return    "
   ]
  },
  {
   "cell_type": "code",
   "execution_count": 37,
   "metadata": {},
   "outputs": [],
   "source": [
    "mw_freq = 1602.0e+6 # in MHz\n",
    "mw_power = -28\n",
    "\n",
    "# Set new values\n",
    "pulsedmasterlogic.set_ext_microwave_settings(power=mw_power, frequency=mw_freq-100.0e+6, use_ext_microwave=True)\n",
    "time.sleep(0.5)"
   ]
  },
  {
   "cell_type": "code",
   "execution_count": 38,
   "metadata": {},
   "outputs": [
    {
     "name": "stdout",
     "output_type": "stream",
     "text": [
      "power: -28.0\n",
      "frequency: 1502000000.0\n",
      "use_ext_microwave: True\n",
      "{1: 'pODMR_ch1', 2: 'pODMR_ch2'}\n"
     ]
    }
   ],
   "source": [
    "# Get the dictionary containing the default parameters for the desired sequence and alter the values as needed.\n",
    "# generate_params = pulsedmasterlogic.generate_method_params['rabi']\n",
    "generate_params=OrderedDict()\n",
    "generate_params['name'] = 'pODMR'\n",
    "generate_params['microwave_amplitude'] = 0.25\n",
    "generate_params['freq_step'] = 0.2e+6\n",
    "generate_params['num_of_points'] = 100\n",
    "\n",
    "# get the current settings with the following property:\n",
    "for setting, value in pulsedmasterlogic.ext_microwave_settings.items():\n",
    "    print('{0}: {1}'.format(setting, value))\n",
    "\n",
    "# Call the actual generation method using a wrapper method and pass the parameter set\n",
    "pulsedmasterlogic.generate_predefined_sequence('pODMR', generate_params)\n",
    "# Give it a moment to generate\n",
    "time.sleep(0.5)\n",
    "\n",
    "# The created object is a PulseBlockEnsemble instance, a recipe to create a waveform.\n",
    "# You can get all created PulseBlockEnsembles using this property (keys are ensemble names, values are the object instances):\n",
    "#for ensemble_name in pulsedmasterlogic.saved_pulse_block_ensembles.keys():\n",
    "#    print(ensemble_name)\n",
    "\n",
    "# The \"with_load\" flag can be used to also load the waveform into the channels after creating it\n",
    "pulsedmasterlogic.sample_ensemble('pODMR', with_load=True)\n",
    "# Wait for the sampling to finish. There is a status dictionary that can be used to check for process status.\n",
    "while pulsedmasterlogic.status_dict['sampload_busy']:\n",
    "    time.sleep(0.1)\n",
    "    \n",
    "pulsedmasterlogic.set_measurement_settings(invoke_settings=False, \n",
    "                                           controlled_variable= mw_freq + \n",
    "                                           np.arange(generate_params['num_of_points'])*generate_params['freq_step'],\n",
    "                                           number_of_lasers=generate_params['num_of_points'], \n",
    "                                           laser_ignore_list=[], \n",
    "                                           alternating=False, \n",
    "                                           units=('Hz', 'arb. u.'))\n",
    "time.sleep(0.5)\n",
    "\n",
    "pulsedmasterlogic.set_fast_counter_settings(record_length=4.0e-6, number_of_gates=generate_params['num_of_points'])\n",
    "time.sleep(0.5)\n",
    "\n",
    "# You can get a read-only view of the current measurement settings by using this property:\n",
    "# for setting, value in pulsedmasterlogic.measurement_settings.items():\n",
    "#     print('{0}:\\n  {1}'.format(setting, value))\n",
    "import winsound\n",
    "frequency = 300  # Set Frequency To 2500 Hertz\n",
    "duration = 1000  # Set Duration To 1000 ms == 1 second\n",
    "winsound.Beep(frequency, duration)\n",
    "# You can get a read-only view of the current measurement settings by using this property:\n",
    "# for setting, value in pulsedmasterlogic.measurement_settings.items():\n",
    "#     print('{0}:\\n  {1}'.format(setting, value))"
   ]
  },
  {
   "cell_type": "code",
   "execution_count": 33,
   "metadata": {},
   "outputs": [],
   "source": [
    "pulsedmasterlogic.save_measurement_data(tag='pODMR_', with_error=True)"
   ]
  },
  {
   "cell_type": "code",
   "execution_count": null,
   "metadata": {},
   "outputs": [],
   "source": []
  }
 ],
 "metadata": {
  "kernelspec": {
   "display_name": "Qudi",
   "language": "python",
   "name": "qudi"
  },
  "language_info": {
   "codemirror_mode": {
    "name": "ipython",
    "version": "3.6.5"
   },
   "file_extension": ".py",
   "mimetype": "text/x-python",
   "name": "python",
   "nbconvert_exporter": "python",
   "pygments_lexer": "ipython3",
   "version": "3.6.5"
  }
 },
 "nbformat": 4,
 "nbformat_minor": 2
}
