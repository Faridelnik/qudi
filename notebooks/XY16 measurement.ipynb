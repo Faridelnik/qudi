{
 "cells": [
  {
   "cell_type": "markdown",
   "metadata": {},
   "source": [
    "# XY16 dynamical decoupling sequence"
   ]
  },
  {
   "cell_type": "code",
   "execution_count": 1,
   "metadata": {
    "collapsed": true
   },
   "outputs": [],
   "source": [
    "from collections import OrderedDict\n",
    "import datetime\n",
    "import numpy as np\n",
    "import time\n",
    "import os"
   ]
  },
  {
   "cell_type": "code",
   "execution_count": 2,
   "metadata": {
    "collapsed": false
   },
   "outputs": [],
   "source": [
    "try: \n",
    "    pulsedmasterlogic\n",
    "except NameError:\n",
    "    manager.startModule('logic', 'pulsedmasterlogic')\n",
    "try: \n",
    "    scannerlogic\n",
    "except NameError:\n",
    "    manager.startModule('logic', 'scannerlogic')\n",
    "try: \n",
    "    optimizerlogic\n",
    "except NameError:\n",
    "    manager.startModule('logic', 'optimizerlogic')\n",
    "try:\n",
    "    sequencegeneratorlogic\n",
    "except NameError:\n",
    "    manager.startModule('logic', 'sequencegeneratorlogic')\n",
    "try:\n",
    "    pulsedmeasurement\n",
    "except NameError:\n",
    "    manager.startModule('gui', 'pulsedmeasurement')   \n",
    "try:\n",
    "    poimanagerlogic\n",
    "except NameError:\n",
    "    manager.startModule('logic', 'poimaganerlogic')    "
   ]
  },
  {
   "cell_type": "code",
   "execution_count": 3,
   "metadata": {
    "collapsed": true
   },
   "outputs": [],
   "source": [
    "def write_to_logfile(nametag, timestamp, name, **kwargs):\n",
    "    \"\"\" Write parameters to custom logfile with name nametag \"\"\"\n",
    "    if type(timestamp) is not str:\n",
    "        timestamp = str(timestamp)\n",
    "    parameters = list(kwargs)\n",
    "    if len(parameters) == 1 and type(kwargs[parameters[0]]) is OrderedDict:\n",
    "        param_dict = kwargs[parameters[0]]\n",
    "        parameters = list(param_dict)\n",
    "        kwargs = param_dict\n",
    "    log_dir = pulsedmeasurement._save_logic.get_path_for_module('CustomLogfiles')\n",
    "    log_path = os.path.join(log_dir, nametag + '.txt')\n",
    "    if not os.path.isfile(log_path):\n",
    "        with open(log_path, 'w') as logfile:\n",
    "            logfile.write('# timestamp\\t')\n",
    "            logfile.write('# Name\\t')\n",
    "            for param in parameters:\n",
    "                logfile.write(param + '\\t')\n",
    "            logfile.write('\\n#\\n')\n",
    "    with open(log_path, 'a') as logfile:\n",
    "        logfile.write(timestamp + '\\t')\n",
    "        logfile.write(name + '\\t')\n",
    "        for param in parameters:\n",
    "            logfile.write('{0:3.6e}\\t'.format(kwargs[param]))\n",
    "        logfile.write('\\n')\n",
    "    return"
   ]
  },
  {
   "cell_type": "code",
   "execution_count": 4,
   "metadata": {
    "collapsed": false
   },
   "outputs": [],
   "source": [
    "# static hardware parameters:\n",
    "setup = OrderedDict()\n",
    "setup['sampling_freq'] = pulsedmeasurementlogic.sample_rate\n",
    "setup['fc_binwidth'] = pulsedmeasurementlogic.fast_counter_binwidth\n",
    "setup['wait_length'] = 1.5e-6\n",
    "setup['aom_delay'] = 500e-9\n",
    "#setup['channel_config_name'] = pulsedmeasurement.current_channel_config_name\n",
    "setup['seq_trig']=''\n",
    "setup['gate']='d_ch2'\n",
    "setup['NV_name']='NV1'\n",
    "setup['poi'] = poimanagerlogic.active_poi.get_key()\n",
    "setup['laser_length'] = 3.0e-6\n",
    "setup[\"min_counts\"] = 10000 # if after a refocus only 40kcounts are measured the refocus is repeated up to max 3 times\n",
    "# Set amplitude in logic and pulser hardware:\n",
    "amp_dict = OrderedDict()\n",
    "amp_dict['a_ch1'] = 0.25\n",
    "amp_dict['a_ch2'] = 0.0\n",
    "AWG5014C.amplitude_dict = amp_dict\n",
    "#pulsedmaster.pulse_generator_settings_changed(setup['sampling_freq'], setup['channel_config_name'], amp_dict, False)"
   ]
  },
  {
   "cell_type": "code",
   "execution_count": 29,
   "metadata": {
    "collapsed": true
   },
   "outputs": [],
   "source": [
    "# for single frequency XY16-N:\n",
    "xy16 = OrderedDict()\n",
    "xy16['mw_amp'] = 0.25\n",
    "xy16['mw_freq'] = 100e6\n",
    "xy16['order'] = 25\n",
    "xy16['tau_start'] = 251.0e-9\n",
    "xy16['tau_incr'] = 1.0e-9\n",
    "xy16['points'] = 22\n",
    "xy16['measurement_time'] = 40*60\n",
    "xy16['refocus_interval'] = 3*60\n",
    "xy16['alternating']=True\n",
    "xy16['rabi_period']=165.3*1e-9"
   ]
  },
  {
   "cell_type": "code",
   "execution_count": 30,
   "metadata": {
    "collapsed": false
   },
   "outputs": [
    {
     "name": "stdout",
     "output_type": "stream",
     "text": [
      "<logic.pulse_objects.PulseSequence object at 0x0000023538DB85C0>\n"
     ]
    }
   ],
   "source": [
    "# generate new XY16 sequence\n",
    "sequencegeneratorlogic.delete_sequence('XY16_sequence')    \n",
    "sequencegeneratorlogic.generate_XY16_sequence('XY16_sequence', xy16['rabi_period'], 100e+6, 0.25,\n",
    "                          xy16['tau_start'], xy16['tau_incr'], xy16['points'], xy16['order'],\n",
    "                          'a_ch1', 3.0e-6, 2.0, 0.7e-6, 1.0e-6, '', 'd_ch2', xy16['alternating'])\n",
    "# sample, upload and load waveform\n",
    "if 'XY16_sequence' not in sequencegeneratorlogic.saved_pulse_sequences:\n",
    "    sequencegeneratorlogic.log.error('Sequence generation of XY16 in notebook timed out.')\n",
    "pulsedmasterlogic.sample_sequence('XY16_sequence', True)\n",
    "\n",
    "while pulsedmasterlogic.status_dict['sauplo_sequence_busy'] or pulsedmasterlogic.status_dict['loading_busy']:\n",
    "        time.sleep(5)\n",
    "\n",
    "import winsound\n",
    "frequency = 300  # Set Frequency To 2500 Hertz\n",
    "duration = 1000  # Set Duration To 1000 ms == 1 second\n",
    "winsound.Beep(frequency, duration)"
   ]
  },
  {
   "cell_type": "code",
   "execution_count": 23,
   "metadata": {
    "collapsed": false,
    "scrolled": false
   },
   "outputs": [],
   "source": [
    "setup['poi'] = poimanagerlogic.active_poi.get_key()"
   ]
  },
  {
   "cell_type": "code",
   "execution_count": 24,
   "metadata": {
    "collapsed": false,
    "scrolled": false
   },
   "outputs": [
    {
     "name": "stdout",
     "output_type": "stream",
     "text": [
      "181314.666667 4.788378329750268e-09\n"
     ]
    },
    {
     "data": {
      "text/plain": [
       "True"
      ]
     },
     "execution_count": 24,
     "metadata": {},
     "output_type": "execute_result"
    }
   ],
   "source": [
    "refocus_poi(setup['poi'])"
   ]
  },
  {
   "cell_type": "code",
   "execution_count": 31,
   "metadata": {
    "collapsed": false,
    "scrolled": false
   },
   "outputs": [
    {
     "name": "stdout",
     "output_type": "stream",
     "text": [
      "181314.666667 1.2165125775289343e-09\n",
      "181314.666667 2.213738233469622e-09\n",
      "181314.666667 3.948626026492727e-09\n",
      "181314.666667 3.4443195630416267e-09\n",
      "181314.666667 4.86862396508218e-10\n",
      "181314.666667 1.4501334279025781e-09\n",
      "181314.666667 4.193052301468866e-09\n",
      "181314.666667 3.0307029277420582e-09\n",
      "181314.666667 3.5158340211407743e-09\n",
      "181314.666667 2.703531705654878e-09\n",
      "181314.666667 4.6813641807838145e-09\n",
      "181314.666667 1.330162960199333e-09\n",
      "181314.666667 6.28602036785111e-09\n"
     ]
    },
    {
     "data": {
      "text/plain": [
       "False"
      ]
     },
     "execution_count": 31,
     "metadata": {},
     "output_type": "execute_result"
    }
   ],
   "source": [
    "do_xy16_refocus(setup['poi'])"
   ]
  },
  {
   "cell_type": "code",
   "execution_count": 32,
   "metadata": {
    "collapsed": true
   },
   "outputs": [],
   "source": [
    "# save measurement\n",
    "pulsedmasterlogic.save_measurement_data('s','XY16-'+str(xy16['order']),True)"
   ]
  },
  {
   "cell_type": "code",
   "execution_count": null,
   "metadata": {
    "collapsed": true
   },
   "outputs": [],
   "source": [
    "mw_freq = 1393.3e+6 # in MHz\n",
    "mw_power = -15\n",
    "\n",
    "pulsedmeasurement._pa.ext_control_mw_freq_DoubleSpinBox.setValue(mw_freq-0.1e+9)\n",
    "pulsedmeasurement._pa.ext_control_mw_power_DoubleSpinBox.setValue(mw_power)\n",
    "pulsedmeasurement.ext_mw_params_changed()"
   ]
  },
  {
   "cell_type": "code",
   "execution_count": 9,
   "metadata": {
    "collapsed": true
   },
   "outputs": [],
   "source": [
    "def refocus_poi(poi=None, max_drift=0.5,min_counts=setup[\"min_counts\"]):\n",
    "    if poi==None:\n",
    "        return False\n",
    "#     pulsedmasterlogic.load_asset_into_channels('Laser_On')\n",
    "#     while pulsedmasterlogic.status_dict['loading_busy']:\n",
    "#         time.sleep(0.5)\n",
    "#     pulsedmasterlogic.toggle_pulse_generator(False)\n",
    "#     time.sleep(0.5)\n",
    "    # perform refocus\n",
    "    scannerlogic.stop_scanning()\n",
    "    poimanagerlogic.go_to_poi(poi)\n",
    "    pos_start = scannerlogic.get_position()\n",
    "    setup['NV_name']=poimanagerlogic.poi_list[poi]._name\n",
    "    poimanagerlogic.optimise_poi(poi)\n",
    "    while optimizerlogic.module_state() == 'idle':\n",
    "        time.sleep(0.2)\n",
    "    while optimizerlogic.module_state() != 'idle':\n",
    "        time.sleep(0.2)\n",
    "    time.sleep(5)\n",
    "    pos_end=scannerlogic.get_position()\n",
    "    print(counterlogic.countdata.mean(),abs(pos_end[0]-pos_start[0]))\n",
    "    if (abs(pos_end[0]-pos_start[0])>max_drift or abs(pos_end[1]-pos_start[1])>max_drift or \n",
    "       abs(pos_end[2]-pos_start[2])>max_drift or counterlogic.countdata.mean()<min_counts):\n",
    "        scannerlogic.set_position('',x=pos_start[0],y=pos_start[1],z=pos_start[2])\n",
    "        poimanagerlogic.set_new_position(poi,pos_start)\n",
    "        print(abs(pos_end[0]-pos_start[0])>max_drift or abs(pos_end[1]-pos_start[1])>max_drift or \n",
    "       abs(pos_end[2]-pos_start[2])>max_drift or counterlogic.countdata.mean()<min_counts)\n",
    "        return False\n",
    "        write_to_logfile('PositionRefocus_log', str(datetime.datetime.now()),name= setup['NV_name'], \n",
    "                     x_pos=pos_start[0], y_pos=pos_start[1], z_pos=pos_start[2],sucess=0)\n",
    "    write_to_logfile('PositionRefocus_log', str(datetime.datetime.now()),name= setup['NV_name'], \n",
    "                     x_pos=pos_end[0], y_pos=pos_end[1], z_pos=pos_end[2],sucess=1)\n",
    "    return True"
   ]
  },
  {
   "cell_type": "code",
   "execution_count": 10,
   "metadata": {
    "collapsed": true
   },
   "outputs": [],
   "source": [
    "def do_xy16(save_tag='',load_tag=''):\n",
    "    \n",
    "    pulsedmasterlogic.do_fit('No Fit')\n",
    "    tau_arr = xy16['tau_start'] + np.arange(xy16['points']) * xy16['tau_incr']\n",
    "    # set parameters in analysis tab\n",
    "    if xy16['alternating']:\n",
    "        pulsedmasterlogic.measurement_sequence_settings_changed(tau_arr, 2*xy16['points'], 100e-6, [],xy16['alternating'])\n",
    "    else:\n",
    "        pulsedmasterlogic.measurement_sequence_settings_changed(tau_arr, xy16['points'], 100e-6, [],xy16['alternating'])\n",
    "    pulsedmasterlogic.fast_counter_settings_changed(setup['fc_binwidth'], setup['laser_length']+0.21e-6)\n",
    "    pulsedmasterlogic.analysis_interval_changed(3)\n",
    "    pulsedmeasurementlogic.measurement_tag = save_tag\n",
    "    # perform measurement\n",
    "    pulsedmasterlogic.start_measurement(load_tag)\n",
    "    while not pulsedmasterlogic.status_dict['measurement_running']:\n",
    "        time.sleep(0.5)\n",
    "    user_terminated = False\n",
    "    start_time = time.time()\n",
    "    while time.time() - start_time < xy16['measurement_time']:\n",
    "        if not pulsedmasterlogic.status_dict['measurement_running']:\n",
    "            user_terminated = True\n",
    "            break\n",
    "        time.sleep(0.5)\n",
    "    pulsedmasterlogic.stop_measurement(save_tag)\n",
    "    while pulsedmasterlogic.status_dict['measurement_running']:\n",
    "        time.sleep(0.5)\n",
    "    if save_tag=='':\n",
    "        pulsedmasterlogic.save_measurement_data('s','XY16-'+str(xy16['order'])+'_'+setup['NV_name'],True)\n",
    "    \n",
    "    time.sleep(2)\n",
    "    return user_terminated"
   ]
  },
  {
   "cell_type": "code",
   "execution_count": 11,
   "metadata": {
    "collapsed": true
   },
   "outputs": [],
   "source": [
    "def do_xy16_refocus(poi):\n",
    "    end_measure=False\n",
    "    #refocus_poi(poi)\n",
    "    xy16_total_time = xy16['measurement_time']\n",
    "    xy16_runtime = 0.0\n",
    "    xy16['measurement_time'] = xy16['refocus_interval']\n",
    "    end_measure = do_xy16('xy16_refocus','')\n",
    "    xy16_runtime += xy16['refocus_interval']\n",
    "    while xy16_total_time > xy16_runtime:\n",
    "        for i in range(1):\n",
    "            end_measure = not refocus_poi(poi)\n",
    "            if not end_measure:\n",
    "                break\n",
    "        if end_measure:\n",
    "            break\n",
    "        end_measure = do_xy16('xy16_refocus', 'xy16_refocus')\n",
    "        xy16_runtime += xy16['refocus_interval']\n",
    "        if end_measure:\n",
    "            break\n",
    "    xy16['measurement_time'] = xy16_total_time\n",
    "    write_to_logfile('xy16_log', str(datetime.datetime.now()),name= setup['NV_name'],runtime=xy16_runtime)\n",
    "    time.sleep(2)\n",
    "    return end_measure"
   ]
  },
  {
   "cell_type": "code",
   "execution_count": null,
   "metadata": {
    "collapsed": true
   },
   "outputs": [],
   "source": []
  }
 ],
 "metadata": {
  "kernelspec": {
   "display_name": "Qudi",
   "language": "python",
   "name": "qudi"
  },
  "language_info": {
   "codemirror_mode": {
    "name": "ipython",
    "version": "3.6.0"
   },
   "file_extension": ".py",
   "mimetype": "text/x-python",
   "name": "python",
   "nbconvert_exporter": "python",
   "pygments_lexer": "ipython3",
   "version": "3.6.0"
  }
 },
 "nbformat": 4,
 "nbformat_minor": 2
}
