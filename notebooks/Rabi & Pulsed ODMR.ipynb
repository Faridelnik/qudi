{
 "cells": [
  {
   "cell_type": "markdown",
   "metadata": {},
   "source": [
    "# Rabi measurement and pulsed ODMR"
   ]
  },
  {
   "cell_type": "code",
   "execution_count": 35,
   "metadata": {
    "collapsed": true
   },
   "outputs": [],
   "source": [
    "from collections import OrderedDict\n",
    "import datetime\n",
    "import numpy as np\n",
    "import time\n",
    "import os"
   ]
  },
  {
   "cell_type": "code",
   "execution_count": 36,
   "metadata": {
    "collapsed": true
   },
   "outputs": [],
   "source": [
    "try: \n",
    "    pulsedmasterlogic\n",
    "except NameError:\n",
    "    manager.startModule('logic', 'pulsedmasterlogic')\n",
    "try: \n",
    "    scannerlogic\n",
    "except NameError:\n",
    "    manager.startModule('logic', 'scannerlogic')\n",
    "try: \n",
    "    optimizerlogic\n",
    "except NameError:\n",
    "    manager.startModule('logic', 'optimizerlogic')\n",
    "try:\n",
    "    sequencegeneratorlogic\n",
    "except NameError:\n",
    "    manager.startModule('logic', 'sequencegeneratorlogic')\n",
    "try:\n",
    "    pulsedmeasurement\n",
    "except NameError:\n",
    "    manager.startModule('gui', 'pulsedmeasurement')    "
   ]
  },
  {
   "cell_type": "code",
   "execution_count": 37,
   "metadata": {
    "collapsed": true
   },
   "outputs": [],
   "source": [
    "def write_to_logfile(nametag, timestamp, name, **kwargs):\n",
    "    \"\"\" Write parameters to custom logfile with name nametag \"\"\"\n",
    "    if type(timestamp) is not str:\n",
    "        timestamp = str(timestamp)\n",
    "    parameters = list(kwargs)\n",
    "    if len(parameters) == 1 and type(kwargs[parameters[0]]) is OrderedDict:\n",
    "        param_dict = kwargs[parameters[0]]\n",
    "        parameters = list(param_dict)\n",
    "        kwargs = param_dict\n",
    "    log_dir = pulsedmeasurement._save_logic.get_path_for_module('CustomLogfiles')\n",
    "    log_path = os.path.join(log_dir, nametag + '.txt')\n",
    "    if not os.path.isfile(log_path):\n",
    "        with open(log_path, 'w') as logfile:\n",
    "            logfile.write('# timestamp\\t')\n",
    "            logfile.write('# Name\\t')\n",
    "            for param in parameters:\n",
    "                logfile.write(param + '\\t')\n",
    "            logfile.write('\\n#\\n')\n",
    "    with open(log_path, 'a') as logfile:\n",
    "        logfile.write(timestamp + '\\t')\n",
    "        logfile.write(name + '\\t')\n",
    "        for param in parameters:\n",
    "            logfile.write('{0:3.6e}\\t'.format(kwargs[param]))\n",
    "        logfile.write('\\n')\n",
    "    return"
   ]
  },
  {
   "cell_type": "code",
   "execution_count": 42,
   "metadata": {
    "collapsed": true
   },
   "outputs": [],
   "source": [
    "# static hardware parameters:\n",
    "setup = OrderedDict()\n",
    "setup['sampling_freq'] = pulsedmeasurementlogic.sample_rate\n",
    "setup['fc_binwidth'] = pulsedmeasurementlogic.fast_counter_binwidth\n",
    "setup['wait_length'] = 1.5e-6\n",
    "setup['aom_delay'] = 500e-9\n",
    "#setup['channel_config_name'] = pulsedmeasurement.current_channel_config_name\n",
    "setup['seq_trig']=''\n",
    "setup['gate']='d_ch2'\n",
    "setup['NV_name']='NV1'\n",
    "setup['poi']='poi_20170908_1920_43_092302'\n",
    "setup['laser_length'] = 3.0e-6\n",
    "setup[\"min_counts\"] = 40000 # if after a refocus only 40kcounts are measured the refocus is repeated up to max 3 times\n",
    "# Set amplitude in logic and pulser hardware:\n",
    "amp_dict = OrderedDict()\n",
    "amp_dict['a_ch1'] = 0.25\n",
    "amp_dict['a_ch2'] = 0.0\n",
    "AWG5014C.amplitude_dict = amp_dict\n",
    "#pulsedmaster.pulse_generator_settings_changed(setup['sampling_freq'], setup['channel_config_name'], amp_dict, False)"
   ]
  },
  {
   "cell_type": "code",
   "execution_count": 10,
   "metadata": {
    "collapsed": true
   },
   "outputs": [],
   "source": [
    "# for pulsed ODMR:\n",
    "odmr_dict = OrderedDict()\n",
    "odmr_dict['pi_length'] = 200.3e-9\n",
    "odmr_dict['freq_res'] = 2e+5\n",
    "odmr_dict['points'] = 100\n",
    "odmr_dict['measurement_time'] = 20\n",
    "odmr_dict['fit_function']='Pulsed ODMR'\n",
    "\n",
    "mw_freq = 1398.02e+6 # in MHz\n",
    "mw_power = -14\n",
    "\n",
    "freq =  (mw_freq-0.1e+9)-odmr_dict['points']*odmr_dict['freq_res']/2\n",
    "\n",
    "freq = 1.39e+9\n",
    "\n",
    "pulsedmeasurement._pa.ext_control_mw_freq_DoubleSpinBox.setValue(freq)\n",
    "pulsedmeasurement._pa.ext_control_mw_power_DoubleSpinBox.setValue(mw_power)\n",
    "pulsedmeasurement.ext_mw_params_changed()"
   ]
  },
  {
   "cell_type": "code",
   "execution_count": 54,
   "metadata": {
    "collapsed": true
   },
   "outputs": [],
   "source": [
    "# for Rabi:\n",
    "rabi = OrderedDict()\n",
    "rabi['mw_amp'] = 0.25\n",
    "rabi['mw_freq'] = 100.0e6 \n",
    "rabi['tau_start'] = 300e-9\n",
    "rabi['tau_step'] = 10e-9\n",
    "rabi['number_of_taus'] = 100\n",
    "rabi['measurement_time'] = 30\n"
   ]
  },
  {
   "cell_type": "code",
   "execution_count": 55,
   "metadata": {
    "collapsed": true
   },
   "outputs": [],
   "source": [
    "mw_freq = 1243.62e+6 # in MHz\n",
    "mw_power = -13\n",
    "\n",
    "pulsedmeasurement._pa.ext_control_mw_freq_DoubleSpinBox.setValue(mw_freq-0.1e+9)\n",
    "pulsedmeasurement._pa.ext_control_mw_power_DoubleSpinBox.setValue(mw_power)\n",
    "pulsedmeasurement.ext_mw_params_changed()"
   ]
  },
  {
   "cell_type": "code",
   "execution_count": 57,
   "metadata": {
    "collapsed": false,
    "scrolled": false
   },
   "outputs": [
    {
     "data": {
      "text/plain": [
       "(False, 1.3599353381002657e-07, 0.27541912625755555, 7353290.7924646605, 0.83442109424175959)"
      ]
     },
     "execution_count": 57,
     "metadata": {},
     "output_type": "execute_result"
    }
   ],
   "source": [
    "do_rabi()"
   ]
  },
  {
   "cell_type": "code",
   "execution_count": 48,
   "metadata": {
    "collapsed": true
   },
   "outputs": [],
   "source": [
    "pulsedmasterlogic.save_measurement_data('s','Rabi_'+setup['NV_name']+'_'+str(rabi['mw_amp'])+'V',True)"
   ]
  },
  {
   "cell_type": "code",
   "execution_count": 8,
   "metadata": {
    "collapsed": true
   },
   "outputs": [],
   "source": [
    "def do_rabi(generate_new=True, save_tag=None):\n",
    "    \n",
    "    length = rabi['number_of_taus'] * rabi['tau_step']\n",
    "            \n",
    "    # sanity check for long sequences:\n",
    "    if length > 3e-3:\n",
    "        print(\"Rabi exceeds 3 ms too long for AWG5014C\")\n",
    "        return True,0,0,0,0\n",
    "    # generate ensemble object\n",
    "#     rabi['tau_res'] = rabi['length'] / (rabi['points'] - 1)\n",
    "    tau_arr = np.arange(rabi['number_of_taus']) * rabi['tau_step']+rabi['tau_start']\n",
    "    if generate_new:\n",
    "        sequencegeneratorlogic.delete_ensemble('Rabi')\n",
    "        sequencegeneratorlogic.generate_rabi('Rabi', rabi['tau_start'], rabi['tau_step'], rabi['number_of_taus'], rabi['mw_freq'], \n",
    "                                        rabi['mw_amp'], 'a_ch1',setup['laser_length'] , 1.0, setup['aom_delay'], \n",
    "                                        setup['wait_length'], setup['seq_trig'], setup['gate'])\n",
    "        if 'Rabi' not in sequencegeneratorlogic.saved_pulse_block_ensembles:\n",
    "            sequencegeneratorlogic.log.error('Ensemble generation of Rabi in notebook timed out.')\n",
    "            return\n",
    "        pulsedmasterlogic.sample_block_ensemble('Rabi', True)\n",
    "    else:\n",
    "        pulsedmasterlogic.load_asset_into_channels('Rabi')\n",
    "    while pulsedmasterlogic.status_dict['sauplo_ensemble_busy'] or pulsedmasterlogic.status_dict['loading_busy']:\n",
    "        time.sleep(0.2)\n",
    "    pulsedmasterlogic.do_fit('No Fit')\n",
    "    # set parameters in analysis tab\n",
    "    pulsedmasterlogic.measurement_sequence_settings_changed(tau_arr, rabi['number_of_taus'], 100e-6, [], False)\n",
    "    pulsedmasterlogic.fast_counter_settings_changed(setup['fc_binwidth'], setup['laser_length']+0.2e-6)\n",
    "    pulsedmasterlogic.analysis_interval_changed(1)\n",
    "    # perform measurement\n",
    "    pulsedmasterlogic.start_measurement()\n",
    "    while not pulsedmasterlogic.status_dict['measurement_running']:\n",
    "        time.sleep(0.2)\n",
    "    user_terminated = False\n",
    "    start_time = time.time()\n",
    "    while time.time() - start_time < rabi['measurement_time']:\n",
    "        if not pulsedmasterlogic.status_dict['measurement_running']:\n",
    "            user_terminated = True\n",
    "            break\n",
    "        time.sleep(0.5)\n",
    "    pulsedmasterlogic.manually_pull_data() \n",
    "    time.sleep(1)\n",
    "    pulsedmasterlogic.stop_measurement()\n",
    "    while pulsedmasterlogic.status_dict['measurement_running']:\n",
    "        time.sleep(0.2)\n",
    "        time.sleep(2)\n",
    "    # do fit\n",
    "    x, y, param_dict = pulsedmeasurementlogic.do_fit('Rabi')\n",
    "    new_freq = param_dict.params['frequency'].value\n",
    "    contrast = 2.*param_dict.params['amplitude'].value\n",
    "    offset = param_dict.params['offset'].value\n",
    "    period = 1./new_freq\n",
    "    \n",
    "#     # save data\n",
    "#     if save_tag is None:\n",
    "#         pulsedmasterlogic.save_measurement_data('s','Rabi_'+setup['NV_name']+'_'+str(rabi['mw_amp'])+'V',True)\n",
    "#     else:\n",
    "#         pulsedmasterlogic.save_measurement_data('s',save_tag,True)\n",
    "    \n",
    "    # write logfile\n",
    "    write_to_logfile('Rabi_log', str(datetime.datetime.now()),name= setup['NV_name'], amplitude=rabi['mw_amp'], period=period,\n",
    "                     frequency=new_freq, contrast=contrast, offset= offset)\n",
    "    return user_terminated, period, contrast, new_freq, offset"
   ]
  },
  {
   "cell_type": "code",
   "execution_count": 32,
   "metadata": {
    "collapsed": true
   },
   "outputs": [],
   "source": [
    "def do_odmr(generate_new=True,save_data=False):\n",
    "    # generate ensemble object\n",
    "    if odmr_dict['pi_length']>3e-3:\n",
    "        print(\"Pulsed ODMR exceeds length of 3ms\")\n",
    "        return\n",
    "        \n",
    "    freq_arr = (mw_freq-odmr_dict['points']*odmr_dict['freq_res']/2) + np.arange(odmr_dict['points']) * odmr_dict['freq_res']    \n",
    "        \n",
    "    if generate_new:\n",
    "        sequencegeneratorlogic.delete_ensemble('PulsedODMR')\n",
    "        sequencegeneratorlogic.generate_pulsed_odmr('PulsedODMR', odmr_dict['pi_length'], 100.0e6, odmr_dict['freq_res'], \n",
    "                                              odmr_dict['points'], 0.25, 'a_ch1', setup['laser_length'] , \n",
    "                                              1.0, setup['aom_delay'], setup['wait_length'], setup['seq_trig'], setup['gate'])\n",
    "        if 'PulsedODMR' not in sequencegeneratorlogic.saved_pulse_block_ensembles:\n",
    "            sequencegeneratorlogic.log.error('Ensemble generation of PulsedODMR from notebook did not work.')\n",
    "            return\n",
    "        pulsedmasterlogic.sample_block_ensemble('PulsedODMR', True)\n",
    "    else:\n",
    "        pulsedmasterlogic.load_asset_into_channels('PulsedODMR')\n",
    "    while pulsedmasterlogic.status_dict['sauplo_ensemble_busy'] or pulsedmasterlogic.status_dict['loading_busy']:\n",
    "        time.sleep(0.5)\n",
    "    # delete old fit\n",
    "    pulsedmasterlogic.do_fit('No Fit')\n",
    "    # set parameters in analysis tab\n",
    "    pulsedmasterlogic.measurement_sequence_settings_changed(freq_arr, odmr_dict['points'], 100e-6, [], False)\n",
    "    pulsedmasterlogic.fast_counter_settings_changed(setup['fc_binwidth'], setup['laser_length']+0.2e-6)\n",
    "    pulsedmasterlogic.analysis_interval_changed(1)\n",
    "    # perform measurement\n",
    "    pulsedmasterlogic.start_measurement()\n",
    "    while not pulsedmasterlogic.status_dict['measurement_running']:\n",
    "        time.sleep(0.5)\n",
    "    user_terminated = False\n",
    "    start_time = time.time()\n",
    "    while time.time() - start_time < odmr_dict['measurement_time']:\n",
    "        if not pulsedmasterlogic.status_dict['measurement_running']:\n",
    "            user_terminated = True\n",
    "            break\n",
    "        time.sleep(1)\n",
    "    pulsedmasterlogic.manually_pull_data() \n",
    "    time.sleep(1)\n",
    "    pulsedmasterlogic.stop_measurement()\n",
    "    while pulsedmasterlogic.status_dict['measurement_running']:\n",
    "        time.sleep(0.5)\n",
    "#    pulsedmaster.save_measurement_data('Hz','PulsedODMR'+setup['NV_name'])\n",
    "    time.sleep(2)\n",
    "    if odmr_dict['fit_function']=='Pulsed ODMR':\n",
    "        x, y, param_dict= pulsedmeasurementlogic.do_fit('Pulsed ODMR')\n",
    "        new_freq = param_dict.params['center'].value\n",
    "        contrast = param_dict.params['contrast'].value\n",
    "        linewidth = param_dict.params['fwhm'].value\n",
    "            \n",
    "    if save_data:\n",
    "        pulsedmasterlogic.save_measurement_data('Hz','ODMR_'+setup['NV_name'],True)\n",
    "    # write logfile\n",
    "    write_to_logfile('PulsedODMR_log', str(datetime.datetime.now()),name= setup['NV_name'], frequency=new_freq,\n",
    "                     contrast=contrast,linewidth=linewidth)\n",
    "    return user_terminated, new_freq, contrast, linewidth"
   ]
  },
  {
   "cell_type": "code",
   "execution_count": 33,
   "metadata": {
    "collapsed": false
   },
   "outputs": [
    {
     "data": {
      "text/plain": [
       "(False, 1395623678.5516646, -4.6706459250703105, 1391792.1485044595)"
      ]
     },
     "execution_count": 33,
     "metadata": {},
     "output_type": "execute_result"
    }
   ],
   "source": [
    "do_odmr()"
   ]
  },
  {
   "cell_type": "code",
   "execution_count": null,
   "metadata": {
    "collapsed": true
   },
   "outputs": [],
   "source": []
  }
 ],
 "metadata": {
  "kernelspec": {
   "display_name": "Qudi",
   "language": "python",
   "name": "qudi"
  },
  "language_info": {
   "codemirror_mode": {
    "name": "ipython",
    "version": "3.6.0"
   },
   "file_extension": ".py",
   "mimetype": "text/x-python",
   "name": "python",
   "nbconvert_exporter": "python",
   "pygments_lexer": "ipython3",
   "version": "3.6.0"
  }
 },
 "nbformat": 4,
 "nbformat_minor": 2
}
