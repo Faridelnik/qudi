{
 "cells": [
  {
   "cell_type": "code",
   "execution_count": 14,
   "metadata": {},
   "outputs": [
    {
     "name": "stdout",
     "output_type": "stream",
     "text": [
      "0.013689871584992476 W\n"
     ]
    }
   ],
   "source": [
    "rho=1.68*1e-8\n",
    "d=50*1e-6\n",
    "l=0.02\n",
    "deltaskin=46.1002*1e-6\n",
    "s=d**2*np.pi/4.0\n",
    "r = rho*l/s\n",
    "I=0.4\n",
    "Power=r*I**2\n",
    "TotalPower=4 #Watt\n",
    "print(Power/2.0, 'W')"
   ]
  },
  {
   "cell_type": "code",
   "execution_count": 17,
   "metadata": {},
   "outputs": [
    {
     "name": "stdout",
     "output_type": "stream",
     "text": [
      "0.1711233948124059 Ohm\n"
     ]
    }
   ],
   "source": [
    "print(r,'Ohm')"
   ]
  },
  {
   "cell_type": "code",
   "execution_count": null,
   "metadata": {},
   "outputs": [],
   "source": []
  }
 ],
 "metadata": {
  "kernelspec": {
   "display_name": "Qudi",
   "language": "python",
   "name": "qudi"
  },
  "language_info": {
   "codemirror_mode": {
    "name": "ipython",
    "version": "3.6.5"
   },
   "file_extension": ".py",
   "mimetype": "text/x-python",
   "name": "python",
   "nbconvert_exporter": "python",
   "pygments_lexer": "ipython3",
   "version": "3.6.5"
  }
 },
 "nbformat": 4,
 "nbformat_minor": 2
}
