{
 "cells": [
  {
   "cell_type": "code",
   "execution_count": 2,
   "metadata": {},
   "outputs": [
    {
     "data": {
      "text/plain": [
       "'https://plot.ly/~Faridelnik/206'"
      ]
     },
     "execution_count": 2,
     "metadata": {},
     "output_type": "execute_result"
    }
   ],
   "source": [
    "import plotly\n",
    "plotly.tools.set_credentials_file(username='Faridelnik', api_key='8fgOJRLClQQnqPQvG4h1')\n",
    "import plotly.plotly as py\n",
    "from plotly.graph_objs import Scatter\n",
    "plotly.tools.set_config_file(world_readable=False,\n",
    "                             sharing='private')\n",
    "\n",
    "d = 200*1e-6\n",
    "N = 10\n",
    "D = 3*1e-3 + np.arange(10) * 1e-3\n",
    "\n",
    "B = (45*D + 100*d*N)/(d*D**2*N**2)\n",
    "\n",
    "trace1 = Scatter(\n",
    "    x = D,\n",
    "    y = B,\n",
    "    mode = 'lines+markers',\n",
    "    name = 'difference'\n",
    ")\n",
    "\n",
    "\n",
    "plot_data = [trace1]\n",
    "py.plot(plot_data, filename='scatter-mode')"
   ]
  },
  {
   "cell_type": "code",
   "execution_count": null,
   "metadata": {},
   "outputs": [],
   "source": []
  }
 ],
 "metadata": {
  "kernelspec": {
   "display_name": "Qudi",
   "language": "python",
   "name": "qudi"
  },
  "language_info": {
   "codemirror_mode": {
    "name": "ipython",
    "version": "3.6.5"
   },
   "file_extension": ".py",
   "mimetype": "text/x-python",
   "name": "python",
   "nbconvert_exporter": "python",
   "pygments_lexer": "ipython3",
   "version": "3.6.5"
  }
 },
 "nbformat": 4,
 "nbformat_minor": 2
}
