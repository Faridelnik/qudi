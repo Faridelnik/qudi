{
 "cells": [
  {
   "cell_type": "code",
   "execution_count": 16,
   "metadata": {
    "collapsed": true
   },
   "outputs": [],
   "source": [
    "from logic.pulse_objects import PulseBlockElement\n",
    "from logic.pulse_objects import PulseBlock\n",
    "from logic.pulse_objects import PulseBlockEnsemble\n",
    "from logic.pulse_objects import PulseSequence\n",
    "import numpy as np"
   ]
  },
  {
   "cell_type": "code",
   "execution_count": 17,
   "metadata": {
    "collapsed": true
   },
   "outputs": [],
   "source": [
    "try: \n",
    "    pulsedmasterlogic\n",
    "except NameError:\n",
    "    manager.startModule('logic', 'pulsedmasterlogic')\n",
    "    \n",
    "try:\n",
    "    sequencegeneratorlogic\n",
    "except NameError:\n",
    "    manager.startModule('logic', 'sequencegeneratorlogic')\n",
    "    \n",
    "self = sequencegeneratorlogic"
   ]
  },
  {
   "cell_type": "code",
   "execution_count": 21,
   "metadata": {
    "collapsed": true
   },
   "outputs": [],
   "source": [
    "def generate_smart_T1_time(self, name='smart_T1', rabi_period=200e-9, mw_freq=100.0e6, mw_amp=0.25,\n",
    "                      tau_start=300.0e-9, tau_incr=10e-6, num_of_points=10, mw_channel='a_ch1',\n",
    "                      laser_length=3.0e-6, channel_amp=2.0, delay_length=0.7e-6, wait_time=1.0e-6,\n",
    "                      sync_trig_channel='', gate_count_channel='d_ch2'):\n",
    "    \"\"\"\n",
    "\n",
    "    \"\"\"\n",
    "    # Sanity checks\n",
    "    if gate_count_channel == '':\n",
    "        gate_count_channel = None\n",
    "    if sync_trig_channel == '':\n",
    "        sync_trig_channel = None\n",
    "    err_code = self._do_channel_sanity_checks(mw_channel=mw_channel,\n",
    "                                              gate_count_channel=gate_count_channel,\n",
    "                                              sync_trig_channel=sync_trig_channel)\n",
    "    if err_code != 0:\n",
    "        return\n",
    "\n",
    "    # get tau array for measurement ticks\n",
    "    tau_array = tau_start + np.arange(num_of_points) * tau_incr\n",
    "    # calculate \"true\" tau start value due to finite length of pi/pihalf pulses\n",
    "    real_tau_start = tau_start - 3 * rabi_period / 8\n",
    "\n",
    "    # get waiting element\n",
    "    waiting_element = self._get_idle_element(wait_time, 0.0, False, gate_count_channel)\n",
    "    # get laser and delay element\n",
    "    laser_element, delay_element = self._get_laser_element(laser_length, 0.0, False, delay_length,\n",
    "                                                           channel_amp, gate_count_channel)\n",
    "    # get pi element\n",
    "    pi_element = self._get_mw_element(rabi_period / 2, 0.0, mw_channel, False, mw_amp, mw_freq, 0.0, gate_count_channel)\n",
    "    # get tau element\n",
    "    tau_element = self._get_idle_element(real_tau_start, tau_incr, False, gate_count_channel)\n",
    "\n",
    "    if sync_trig_channel is not None:\n",
    "        # get sequence trigger element\n",
    "        seqtrig_element = self._get_trigger_element(20.0e-9, 0.0, sync_trig_channel,\n",
    "                                                    amp=channel_amp)\n",
    "        # Create its own block out of the element\n",
    "        seq_block = PulseBlock('seq_trigger', [seqtrig_element])\n",
    "        # save block\n",
    "        self.save_block('seq_trigger', seq_block)\n",
    "\n",
    "    # Create element list for alternating T1 PulseBlock (waveform)\n",
    "    element_list = []\n",
    "    element_list.append(pi_element)\n",
    "    # element_list.append(tau_element)\n",
    "    # element_list.append(pi_element)\n",
    "    # element_list.append(laser_element)\n",
    "    # element_list.append(delay_element)\n",
    "    # element_list.append(waiting_element)\n",
    "    #\n",
    "    # element_list.append(pi_element)\n",
    "    # element_list.append(tau_element)\n",
    "    # element_list.append(laser_element)\n",
    "    # element_list.append(delay_element)\n",
    "    # element_list.append(waiting_element)\n",
    "\n",
    "    # Create PulseBlock object\n",
    "    flip_block = PulseBlock(name, element_list)\n",
    "    # save block\n",
    "    self.save_block(name, flip_block)\n",
    "\n",
    "    # Create Block list with repetitions and sequence trigger if needed.\n",
    "    # remember number_of_taus=0 also counts as first round.\n",
    "    block_list = [(flip_block, 1)]\n",
    "    if sync_trig_channel is not None:\n",
    "        block_list.append((seq_block, 0))\n",
    "\n",
    "    # create ensemble out of the block(s)\n",
    "    block_ensemble = PulseBlockEnsemble(name=name, block_list=block_list, rotating_frame=True)\n",
    "    # add metadata to invoke settings later on\n",
    "    block_ensemble.sample_rate = self.sample_rate\n",
    "    block_ensemble.activation_config = self.activation_config\n",
    "    block_ensemble.amplitude_dict = self.amplitude_dict\n",
    "    block_ensemble.laser_channel = self.laser_channel\n",
    "    block_ensemble.alternating = True\n",
    "    block_ensemble.laser_ignore_list = []\n",
    "    block_ensemble.controlled_vals_array = tau_array\n",
    "    # save ensemble\n",
    "    self.save_ensemble(name, block_ensemble)\n",
    "\n",
    "    sequence_list = [(block_ensemble, {'repetitions': 2})]\n",
    "\n",
    "    subsequence = PulseSequence(name = name, ensemble_param_list = sequence_list, rotating_frame=True)\n",
    "\n",
    "    subsequence.sample_rate = self.sample_rate\n",
    "    subsequence.activation_config = self.activation_config\n",
    "    subsequence.amplitude_dict = self.amplitude_dict\n",
    "    subsequence.laser_channel = self.laser_channel\n",
    "    subsequence.alternating = True\n",
    "    subsequence.laser_ignore_list = []\n",
    "\n",
    "    self.save_sequence(name, subsequence)\n",
    "\n",
    "    return subsequence"
   ]
  },
  {
   "cell_type": "code",
   "execution_count": 22,
   "metadata": {
    "collapsed": false
   },
   "outputs": [
    {
     "data": {
      "text/plain": [
       "<logic.pulse_objects.PulseSequence object at 0x000002336AAE29E8>"
      ]
     },
     "execution_count": 22,
     "metadata": {},
     "output_type": "execute_result"
    }
   ],
   "source": [
    "generate_smart_T1_time(self, name='smart_T1', rabi_period=100e-9, mw_freq=100.0e6, mw_amp=0.25,\n",
    "                      tau_start=300.0e-9, tau_incr=1e-6, num_of_points=10, mw_channel='a_ch1',\n",
    "                      laser_length=3.0e-6, channel_amp=2.0, delay_length=0.7e-6, wait_time=1.0e-6,\n",
    "                      sync_trig_channel='', gate_count_channel='d_ch2')"
   ]
  },
  {
   "cell_type": "code",
   "execution_count": 23,
   "metadata": {
    "collapsed": true
   },
   "outputs": [],
   "source": [
    "pulsedmasterlogic.sample_sequence('smart_T1', True)"
   ]
  },
  {
   "cell_type": "code",
   "execution_count": null,
   "metadata": {
    "collapsed": true
   },
   "outputs": [],
   "source": []
  }
 ],
 "metadata": {
  "kernelspec": {
   "display_name": "Qudi",
   "language": "python",
   "name": "qudi"
  },
  "language_info": {
   "codemirror_mode": {
    "name": "ipython",
    "version": "3.6.0"
   },
   "file_extension": ".py",
   "mimetype": "text/x-python",
   "name": "python",
   "nbconvert_exporter": "python",
   "pygments_lexer": "ipython3",
   "version": "3.6.0"
  }
 },
 "nbformat": 4,
 "nbformat_minor": 2
}
