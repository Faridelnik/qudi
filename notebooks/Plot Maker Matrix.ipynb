{
 "cells": [
  {
   "cell_type": "code",
   "execution_count": 50,
   "metadata": {},
   "outputs": [],
   "source": [
    "import numpy as np\n",
    "\n",
    "def export_counts(myfile):\n",
    "    f = open(myfile, 'r')\n",
    "    lines = f.readlines()\n",
    "    result = []\n",
    "    for x in lines:\n",
    "        result.append(x.split('#')[0])\n",
    "    f.close()\n",
    "    a = [x for x in result if x != '']\n",
    "\n",
    "    evolution_time = np.zeros(len(a))\n",
    "    counts = np.zeros(len(a))\n",
    "    error = np.zeros(len(a))\n",
    "   \n",
    "    for i in range(len(a)):\n",
    "        evolution_time[i]=np.asarray(a[i].split(), dtype=np.float32)[0]\n",
    "        counts[i] = np.asarray(a[i].split(), dtype=np.float32)[1]\n",
    "        error[i] = np.asarray(a[i].split(), dtype=np.float32)[2]\n",
    "        \n",
    "    return counts, evolution_time, error"
   ]
  },
  {
   "cell_type": "code",
   "execution_count": 51,
   "metadata": {},
   "outputs": [],
   "source": [
    "my_files=['G:/data/QudiData/2018/12/20181220/PulsedMeasurement/20181220-1607-37_NV18_pODMR_0.25100000.0_pulsed_measurement.dat',\n",
    "          'G:/data/QudiData/2018/12/20181220/PulsedMeasurement/20181220-1630-23_NV18_pODMR_0.25200000.0_pulsed_measurement.dat',\n",
    "          'G:/data/QudiData/2018/12/20181220/PulsedMeasurement/20181220-1653-12_NV18_pODMR_0.25300000.0_pulsed_measurement.dat',\n",
    "          'G:/data/QudiData/2018/12/20181220/PulsedMeasurement/20181220-1630-23_NV18_pODMR_0.25200000.0_pulsed_measurement.dat',\n",
    "          'G:/data/QudiData/2018/12/20181220/PulsedMeasurement/20181220-1715-59_NV18_pODMR_0.25400000.00000000006_pulsed_measurement.dat',\n",
    "          'G:/data/QudiData/2018/12/20181220/PulsedMeasurement/20181220-1738-49_NV18_pODMR_0.25500000.0_pulsed_measurement.dat',\n",
    "          'G:/data/QudiData/2018/12/20181220/PulsedMeasurement/20181220-1801-36_NV18_pODMR_0.25600000.0_pulsed_measurement.dat',\n",
    "          'G:/data/QudiData/2018/12/20181220/PulsedMeasurement/20181220-1824-23_NV18_pODMR_0.25700000.0000000001_pulsed_measurement.dat',\n",
    "          'G:/data/QudiData/2018/12/20181220/PulsedMeasurement/20181220-1847-12_NV18_pODMR_0.25800000.0000000001_pulsed_measurement.dat',\n",
    "          'G:/data/QudiData/2018/12/20181220/PulsedMeasurement/20181220-1910-03_NV18_pODMR_0.25900000.0_pulsed_measurement.dat',\n",
    "          'G:/data/QudiData/2018/12/20181220/PulsedMeasurement/20181220-1932-53_NV18_pODMR_0.251000000.0_pulsed_measurement.dat',\n",
    "          'G:/data/QudiData/2018/12/20181220/PulsedMeasurement/20181220-1955-45_NV18_pODMR_0.251100000.0_pulsed_measurement.dat',\n",
    "          'G:/data/QudiData/2018/12/20181220/PulsedMeasurement/20181220-2018-33_NV18_pODMR_0.251200000.0_pulsed_measurement.dat',\n",
    "          'G:/data/QudiData/2018/12/20181220/PulsedMeasurement/20181220-2041-23_NV18_pODMR_0.251300000.0000000002_pulsed_measurement.dat',\n",
    "          'G:/data/QudiData/2018/12/20181220/PulsedMeasurement/20181220-2104-13_NV18_pODMR_0.251400000.0_pulsed_measurement.dat',\n",
    "          'G:/data/QudiData/2018/12/20181220/PulsedMeasurement/20181220-2127-03_NV18_pODMR_0.251500000.0000000002_pulsed_measurement.dat',\n",
    "          'G:/data/QudiData/2018/12/20181220/PulsedMeasurement/20181220-2149-53_NV18_pODMR_0.251600000.0_pulsed_measurement.dat',\n",
    "          'G:/data/QudiData/2018/12/20181220/PulsedMeasurement/20181220-2212-46_NV18_pODMR_0.251700000.0_pulsed_measurement.dat',\n",
    "          'G:/data/QudiData/2018/12/20181220/PulsedMeasurement/20181220-2235-32_NV18_pODMR_0.251800000.0000000002_pulsed_measurement.dat',\n",
    "          'G:/data/QudiData/2018/12/20181220/PulsedMeasurement/20181220-2258-22_NV18_pODMR_0.251900000.0_pulsed_measurement.dat',\n",
    "          'G:/data/QudiData/2018/12/20181220/PulsedMeasurement/20181220-2321-12_NV18_pODMR_0.252000000.0000000002_pulsed_measurement.dat',\n",
    "          'G:/data/QudiData/2018/12/20181220/PulsedMeasurement/20181220-2344-03_NV18_pODMR_0.252100000.0_pulsed_measurement.dat',\n",
    "          'G:/data/QudiData/2018/12/20181221/PulsedMeasurement/20181221-0006-52_NV18_pODMR_0.252200000.0_pulsed_measurement.dat',\n",
    "          'G:/data/QudiData/2018/12/20181221/PulsedMeasurement/20181221-0029-39_NV18_pODMR_0.252300000.0_pulsed_measurement.dat',\n",
    "          'G:/data/QudiData/2018/12/20181221/PulsedMeasurement/20181221-0052-32_NV18_pODMR_0.252400000.0000000005_pulsed_measurement.dat',\n",
    "          'G:/data/QudiData/2018/12/20181221/PulsedMeasurement/20181221-0115-24_NV18_pODMR_0.252500000.0000000005_pulsed_measurement.dat',\n",
    "          'G:/data/QudiData/2018/12/20181221/PulsedMeasurement/20181221-0138-13_NV18_pODMR_0.252600000.0_pulsed_measurement.dat',\n",
    "          'G:/data/QudiData/2018/12/20181221/PulsedMeasurement/20181221-0201-01_NV18_pODMR_0.252700000.0_pulsed_measurement.dat',\n",
    "          'G:/data/QudiData/2018/12/20181221/PulsedMeasurement/20181221-0223-51_NV18_pODMR_0.252800000.0_pulsed_measurement.dat',\n",
    "          'G:/data/QudiData/2018/12/20181221/PulsedMeasurement/20181221-0246-41_NV18_pODMR_0.252900000.0000000005_pulsed_measurement.dat',\n",
    "          'G:/data/QudiData/2018/12/20181221/PulsedMeasurement/20181221-0309-29_NV18_pODMR_0.253000000.0000000005_pulsed_measurement.dat',\n",
    "          'G:/data/QudiData/2018/12/20181221/PulsedMeasurement/20181221-0332-17_NV18_pODMR_0.253100000.0_pulsed_measurement.dat',\n",
    "          'G:/data/QudiData/2018/12/20181221/PulsedMeasurement/20181221-0355-07_NV18_pODMR_0.253200000.0_pulsed_measurement.dat',\n",
    "          'G:/data/QudiData/2018/12/20181221/PulsedMeasurement/20181221-0418-01_NV18_pODMR_0.253300000.0_pulsed_measurement.dat',\n",
    "          'G:/data/QudiData/2018/12/20181221/PulsedMeasurement/20181221-0440-49_NV18_pODMR_0.253400000.0000000005_pulsed_measurement.dat',\n",
    "          'G:/data/QudiData/2018/12/20181221/PulsedMeasurement/20181221-0503-40_NV18_pODMR_0.253500000.0000000005_pulsed_measurement.dat',\n",
    "          'G:/data/QudiData/2018/12/20181221/PulsedMeasurement/20181221-0526-30_NV18_pODMR_0.253600000.0_pulsed_measurement.dat',\n",
    "          'G:/data/QudiData/2018/12/20181221/PulsedMeasurement/20181221-0549-17_NV18_pODMR_0.253700000.0_pulsed_measurement.dat',\n",
    "          'G:/data/QudiData/2018/12/20181221/PulsedMeasurement/20181221-0612-07_NV18_pODMR_0.253800000.0_pulsed_measurement.dat',\n",
    "          'G:/data/QudiData/2018/12/20181221/PulsedMeasurement/20181221-0634-58_NV18_pODMR_0.253900000.0000000005_pulsed_measurement.dat',\n",
    "          'G:/data/QudiData/2018/12/20181221/PulsedMeasurement/20181221-0657-48_NV18_pODMR_0.254000000.0000000005_pulsed_measurement.dat'       \n",
    "         ]\n",
    "          \n",
    "          #'G:/data/QudiData/2018/12/20181220/PulsedMeasurement/20181220-1510-55_NV18_pODMR_0.251797000.0_pulsed_measurement.dat',\n",
    "          \n",
    "    "
   ]
  },
  {
   "cell_type": "code",
   "execution_count": 52,
   "metadata": {
    "scrolled": true
   },
   "outputs": [],
   "source": [
    "counts=[]\n",
    "for i in range(len(my_files)):\n",
    "    normalized_counts, evolution_time, error= export_counts(my_files[i])\n",
    "    counts.append(normalized_counts.tolist())"
   ]
  },
  {
   "cell_type": "code",
   "execution_count": 53,
   "metadata": {},
   "outputs": [
    {
     "data": {
      "text/plain": [
       "'https://plot.ly/~Faridelnik/264'"
      ]
     },
     "execution_count": 53,
     "metadata": {},
     "output_type": "execute_result"
    }
   ],
   "source": [
    "import plotly\n",
    "plotly.tools.set_credentials_file(username='Faridelnik', api_key='8fgOJRLClQQnqPQvG4h1')\n",
    "import plotly.plotly as py\n",
    "import plotly.graph_objs as go\n",
    "plotly.tools.set_config_file(world_readable=False,\n",
    "                             sharing='private')\n",
    "\n",
    "freq = 0.1*1e+6 + np.arange(40)*0.1*1e+6\n",
    "\n",
    "trace = go.Heatmap(z=counts,\n",
    "                   x=evolution_time*1e-6,\n",
    "                   y=freq.tolist())\n",
    "data=[trace]\n",
    "py.plot(data, filename='labelled-heatmap')"
   ]
  },
  {
   "cell_type": "code",
   "execution_count": null,
   "metadata": {
    "collapsed": true
   },
   "outputs": [],
   "source": [
    "np.savetxt('G:/data/QudiData/2018/01/20180119/PulsedMeasurement/counts_kddxy_6_pol.txt', normalized_counts, delimiter=',')\n",
    "np.savetxt('G:/data/QudiData/2018/01/20180119/PulsedMeasurement/freq_kddxy_6_pol.txt', freq, delimiter=',')"
   ]
  },
  {
   "cell_type": "code",
   "execution_count": null,
   "metadata": {},
   "outputs": [],
   "source": [
    "import pylab as plb\n",
    "from scipy.optimize import curve_fit\n",
    "from scipy import asarray as ar,exp\n",
    "\n",
    "x=0.5/evolution_time/1.0e+6\n",
    "y=normalized_counts\n",
    "\n",
    "n = len(x)                          #the number of data\n",
    "mean = sum(x*y)/n                   #note this correction\n",
    "sigma = sum(y*(x-mean)**2)/n        #note this correction\n",
    "\n",
    "def gaus(x,a,x0,sigma):\n",
    "    return y[0]-a*exp(-(x-x0)**2/(2*sigma**2))\n",
    "\n",
    "popt,pcov = curve_fit(gaus,x,y,p0=[0.3, 2.4, 0.1])\n",
    "\n",
    "print(popt)"
   ]
  },
  {
   "cell_type": "code",
   "execution_count": null,
   "metadata": {},
   "outputs": [],
   "source": [
    "from plotly import __version__\n",
    "from plotly.offline import init_notebook_mode, plot\n",
    "from plotly.graph_objs import Scatter\n",
    "\n",
    "init_notebook_mode()\n",
    "\n",
    "# print(\"plotly version:\", __version__)\n",
    "\n",
    "freq=0.5/evolution_time/1.0e+6\n",
    "popt=[ 0.15,  2.41,  0.03]\n",
    "\n",
    "trace1 = Scatter(\n",
    "    x = freq,\n",
    "    y = normalized_counts,\n",
    "    mode = 'lines+markers',\n",
    "    name = 'lines+markers'\n",
    ")\n",
    "trace2 = Scatter(\n",
    "    x = np.linspace(freq.max(), freq.min(), 200),\n",
    "    y = gaus(np.linspace(freq.max(), freq.min(), 200), *popt)-0.2,\n",
    "    mode = 'lines',\n",
    "    name = 'lines'\n",
    ")\n",
    "\n",
    "plot_data = [trace1, trace2]\n",
    "plot(plot_data, filename='scatter-mode')"
   ]
  },
  {
   "cell_type": "code",
   "execution_count": null,
   "metadata": {},
   "outputs": [],
   "source": [
    "from plotly import __version__\n",
    "from plotly.offline import init_notebook_mode, plot\n",
    "from plotly.graph_objs import Scatter\n",
    "\n",
    "# t=np.linspace(0, 2*4*300e-9, 200)\n",
    "# y=np.sin(2*np.pi*2.4*1e+6*t)\n",
    "\n",
    "t=np.linspace(0, 4, 200)\n",
    "y=np.exp(-t)\n",
    "\n",
    "trace = Scatter(\n",
    "    x = t,\n",
    "    y = y,\n",
    "    mode = 'lines',\n",
    "    name = 'lines'\n",
    ")\n",
    "\n",
    "plot_data = [trace]\n",
    "plot(plot_data, filename='scatter-mode')"
   ]
  },
  {
   "cell_type": "code",
   "execution_count": 40,
   "metadata": {},
   "outputs": [],
   "source": [
    "import matplotlib.pyplot as plt\n",
    "import matplotlib.image as mpimg\n",
    "\n",
    "def cm2inch(*tupl):\n",
    "    inch = 2.54\n",
    "    if isinstance(tupl[0], tuple):\n",
    "        return tuple(i/inch for i in tupl[0])\n",
    "    else:\n",
    "        return tuple(i/inch for i in tupl)\n",
    "    \n",
    "img=mpimg.imread('G:/Article/pictures/TOC_Graphic.png')\n",
    "# plt.figure(figsize=cm2inch(8.251, 4.449))\n",
    "plt.axis(\"off\")\n",
    "imgplot = plt.imshow(img)\n",
    "plt.savefig('G:/Article/pictures/TOC_Graphic_300dpi.tiff', dpi = 300, figsize=cm2inch(8.251, 4.449))"
   ]
  },
  {
   "cell_type": "code",
   "execution_count": 42,
   "metadata": {
    "collapsed": true
   },
   "outputs": [],
   "source": [
    "from PIL import Image                                                                                \n",
    "img = Image.open('G:/Article/pictures/TOC_Graphic.png')\n",
    "img.show() "
   ]
  },
  {
   "cell_type": "code",
   "execution_count": null,
   "metadata": {
    "collapsed": true
   },
   "outputs": [],
   "source": []
  }
 ],
 "metadata": {
  "kernelspec": {
   "display_name": "Qudi",
   "language": "python",
   "name": "qudi"
  },
  "language_info": {
   "codemirror_mode": {
    "name": "ipython",
    "version": "3.6.5"
   },
   "file_extension": ".py",
   "mimetype": "text/x-python",
   "name": "python",
   "nbconvert_exporter": "python",
   "pygments_lexer": "ipython3",
   "version": "3.6.5"
  }
 },
 "nbformat": 4,
 "nbformat_minor": 2
}
