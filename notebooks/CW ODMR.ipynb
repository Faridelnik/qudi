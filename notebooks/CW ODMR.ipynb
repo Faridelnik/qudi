{
 "cells": [
  {
   "cell_type": "markdown",
   "metadata": {},
   "source": [
    "   # CW ODMR with AWG5014C"
   ]
  },
  {
   "cell_type": "markdown",
   "metadata": {},
   "source": [
    "   ## Load modules and set parameters"
   ]
  },
  {
   "cell_type": "code",
   "execution_count": 19,
   "metadata": {
    "collapsed": true
   },
   "outputs": [],
   "source": [
    "from collections import OrderedDict\n",
    "import datetime\n",
    "import numpy as np\n",
    "import time\n",
    "import os"
   ]
  },
  {
   "cell_type": "code",
   "execution_count": 20,
   "metadata": {
    "collapsed": false
   },
   "outputs": [],
   "source": [
    "try:\n",
    "    odmr\n",
    "except NameError:\n",
    "    manager.startModule('gui', 'odmr')\n",
    "    \n",
    "try:\n",
    "    pulsedmeasurement\n",
    "except NameError:\n",
    "    manager.startModule('gui', 'pulsedmeasurement')    \n",
    "\n",
    "try: \n",
    "    odmrlogic\n",
    "except NameError:\n",
    "    manager.startModule('logic', 'odmrlogic')\n",
    "\n",
    "try: \n",
    "    pulsedmasterlogic\n",
    "except NameError:\n",
    "    manager.startModule('logic', 'pulsedmasterlogic')\n",
    "    \n",
    "try:\n",
    "    sequencegeneratorlogic\n",
    "except NameError:\n",
    "    manager.startModule('logic', 'sequencegeneratorlogic')\n"
   ]
  },
  {
   "cell_type": "code",
   "execution_count": 23,
   "metadata": {
    "collapsed": false
   },
   "outputs": [],
   "source": [
    "odmrlogic.mw_start = 1.1e+9\n",
    "odmrlogic.mw_stop = 1.18e+9\n",
    "odmrlogic.mw_step = 1.0e+6\n",
    "odmrlogic.run_time = 30.0\n",
    "odmrlogic.sweep_mw_power = -22.0\n",
    "\n",
    "odmrlogic.cw_mw_frequency = odmrlogic.mw_start\n",
    "odmrlogic.cw_mw_power = odmrlogic.sweep_mw_power\n",
    "\n",
    "odmr._mw.cw_frequency_DoubleSpinBox.setValue(odmrlogic.cw_mw_frequency)\n",
    "odmr._mw.start_freq_DoubleSpinBox.setValue(odmrlogic.mw_start)\n",
    "odmr._mw.stop_freq_DoubleSpinBox.setValue(odmrlogic.mw_stop)\n",
    "odmr._mw.step_freq_DoubleSpinBox.setValue(odmrlogic.mw_step)\n",
    "odmr._mw.cw_power_DoubleSpinBox.setValue(odmrlogic.cw_mw_power)\n",
    "odmr._mw.sweep_power_DoubleSpinBox.setValue(odmrlogic.sweep_mw_power)\n",
    "odmr._mw.runtime_DoubleSpinBox.setValue(odmrlogic.run_time)"
   ]
  },
  {
   "cell_type": "code",
   "execution_count": 28,
   "metadata": {
    "collapsed": false
   },
   "outputs": [],
   "source": [
    " # load Laser_MW_On sequence to AWG\n",
    "pulsedmasterlogic.clear_pulse_generator()\n",
    "sequencegeneratorlogic.generate_laser_mw_on(name='Laser_MW_On', laser_amp=2.0, mw_channel='a_ch1',\n",
    "                         mw_freq=0.1e+9, mw_amp=0.25)\n",
    "if 'Laser_MW_On' not in sequencegeneratorlogic.saved_pulse_block_ensembles:\n",
    "    sequencegeneratorlogic.log.error('Ensemble generation of Rabi in notebook timed out.')\n",
    "pulsedmasterlogic.sample_block_ensemble('Laser_MW_On', True)\n",
    "pulsedmasterlogic.load_asset_into_channels('Laser_MW_On')"
   ]
  },
  {
   "cell_type": "code",
   "execution_count": 5,
   "metadata": {
    "collapsed": true
   },
   "outputs": [],
   "source": [
    "def do_cw_odmr(save_data=False):\n",
    "    \n",
    "    # perform measurement\n",
    "    odmrlogic.start_odmr_scan()\n",
    "    \n",
    "    time.sleep(odmrlogic.run_time+0.5)\n",
    "    \n",
    "    odmrlogic.do_fit('Lorentzian dip')\n",
    "    \n",
    "    if save_data:\n",
    "        odmr.save_data()\n",
    "        \n",
    "    pulsedmeasurement.laser_on()\n",
    "    \n",
    "    print('finish')"
   ]
  },
  {
   "cell_type": "code",
   "execution_count": 10,
   "metadata": {
    "collapsed": false,
    "scrolled": true
   },
   "outputs": [
    {
     "name": "stdout",
     "output_type": "stream",
     "text": [
      "finish\n"
     ]
    }
   ],
   "source": [
    "do_cw_odmr()"
   ]
  },
  {
   "cell_type": "code",
   "execution_count": null,
   "metadata": {
    "collapsed": true
   },
   "outputs": [],
   "source": []
  }
 ],
 "metadata": {
  "kernelspec": {
   "display_name": "Qudi",
   "language": "python",
   "name": "qudi"
  },
  "language_info": {
   "codemirror_mode": {
    "name": "ipython",
    "version": "3.6.0"
   },
   "file_extension": ".py",
   "mimetype": "text/x-python",
   "name": "python",
   "nbconvert_exporter": "python",
   "pygments_lexer": "ipython3",
   "version": "3.6.0"
  }
 },
 "nbformat": 4,
 "nbformat_minor": 2
}
