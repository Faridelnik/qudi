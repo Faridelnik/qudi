{
 "cells": [
  {
   "cell_type": "markdown",
   "metadata": {},
   "source": [
    "# [Spin-Locking with waiting]^N times"
   ]
  },
  {
   "cell_type": "code",
   "execution_count": 23,
   "metadata": {},
   "outputs": [],
   "source": [
    "from collections import OrderedDict\n",
    "import datetime\n",
    "import numpy as np\n",
    "import time\n",
    "import os\n",
    "\n",
    "try: \n",
    "    pulsedmasterlogic\n",
    "except NameError:\n",
    "    manager.startModule('logic', 'pulsedmasterlogic')\n",
    "try: \n",
    "    scannerlogic\n",
    "except NameError:\n",
    "    manager.startModule('logic', 'scannerlogic')\n",
    "try: \n",
    "    optimizer\n",
    "except NameError:\n",
    "    manager.startModule('logic', 'optimizer')\n",
    "try:\n",
    "    sequencegenerator\n",
    "except NameError:\n",
    "    manager.startModule('logic', 'sequencegenerator')\n",
    "try:\n",
    "    pulsedmeasurementlogic\n",
    "except NameError:\n",
    "    manager.startModule('gui', 'pulsedmeasurementlogic')   \n",
    "try:\n",
    "    poimanager\n",
    "except NameError:\n",
    "    manager.startModule('logic', 'poimaganer')  \n",
    "    \n",
    "def write_to_logfile(nametag, timestamp, name, **kwargs):\n",
    "    \"\"\" Write parameters to custom logfile with name nametag \"\"\"\n",
    "    if type(timestamp) is not str:\n",
    "        timestamp = str(timestamp)\n",
    "    parameters = list(kwargs)\n",
    "    if len(parameters) == 1 and type(kwargs[parameters[0]]) is OrderedDict:\n",
    "        param_dict = kwargs[parameters[0]]\n",
    "        parameters = list(param_dict)\n",
    "        kwargs = param_dict\n",
    "    log_dir = pulsedmeasurementlogic.savelogic().get_path_for_module('CustomLogfiles')\n",
    "    log_path = os.path.join(log_dir, nametag + '.txt')\n",
    "    if not os.path.isfile(log_path):\n",
    "        with open(log_path, 'w') as logfile:\n",
    "            logfile.write('# timestamp\\t')\n",
    "            logfile.write('# Name\\t')\n",
    "            for param in parameters:\n",
    "                logfile.write(param + '\\t')\n",
    "            logfile.write('\\n#\\n')\n",
    "    with open(log_path, 'a') as logfile:\n",
    "        logfile.write(timestamp + '\\t')\n",
    "        logfile.write(name + '\\t')\n",
    "        for param in parameters:\n",
    "            logfile.write('{0:3.6e}\\t'.format(kwargs[param]))\n",
    "        logfile.write('\\n')\n",
    "    return"
   ]
  },
  {
   "cell_type": "code",
   "execution_count": 29,
   "metadata": {},
   "outputs": [],
   "source": [
    "# for single frequency XY8-N:\n",
    "HHSW = OrderedDict()\n",
    "HHSW['tau_start'] = 10.0*1e-9\n",
    "HHSW['tau_incr'] = 5.0*1e-6\n",
    "HHSW['points'] = 5\n",
    "HHSW['sweeps']=100000"
   ]
  },
  {
   "cell_type": "code",
   "execution_count": 31,
   "metadata": {},
   "outputs": [
    {
     "name": "stdout",
     "output_type": "stream",
     "text": [
      "90253.33333333333 8.243503094195449e-08\n",
      "0.7253698229789733\n",
      "90253.33333333333 7.28956261014523e-08\n",
      "1.4586419820785523\n",
      "90253.33333333333 2.5801556041444434e-10\n",
      "2.213943882783254\n",
      "90253.33333333333 3.527125570220124e-10\n",
      "2.977554130554199\n",
      "90253.33333333333 1.0881979032625308e-09\n",
      "3.769613484541575\n"
     ]
    }
   ],
   "source": [
    "tau = HHSW['tau_start'] + np.arange(HHSW['points']) * HHSW['tau_incr']\n",
    "poi=poimanager.active_poi.get_key()\n",
    "NV_name =poimanager.poi_list[poi]._name\n",
    "\n",
    "start_time = time.time()\n",
    "for t in tau:\n",
    "    generate_sequence(t)\n",
    "    time.sleep(4)\n",
    "    refocus_poi(poi)\n",
    "    time.sleep(5)\n",
    "        \n",
    "    # If everything is properly set, we can start a measurement simply by calling:\n",
    "    pulsedmasterlogic.toggle_pulsed_measurement(True)\n",
    "    # Wait until the pulsedmeasurementlogic is actually busy and the measurement is running\n",
    "    while pulsedmeasurementlogic.module_state() != 'locked':\n",
    "        time.sleep(0.2)\n",
    "        \n",
    "    user_terminated = False\n",
    "    while fastcounter.get_sweeps() < HHSW['sweeps']:\n",
    "        if pulsedmeasurementlogic.module_state()=='idle':\n",
    "            user_terminated = True\n",
    "            time.sleep(0.2)    \n",
    "            break\n",
    "        time.sleep(0.5)\n",
    "        \n",
    "    pulsedmasterlogic.toggle_pulsed_measurement(False)\n",
    "    # Wait until the pulsedmeasurementlogic is actually idle and the measurement is stopped\n",
    "    while pulsedmeasurementlogic.module_state() == 'locked':\n",
    "        time.sleep(0.2)\n",
    "    \n",
    "    pulsedmasterlogic.save_measurement_data(tag='HHwait_'+f\"{t:.{1}e}\"+'_'+NV_name, with_error=True)        \n",
    "    print((time.time() - start_time)/60)    "
   ]
  },
  {
   "cell_type": "code",
   "execution_count": 34,
   "metadata": {},
   "outputs": [
    {
     "data": {
      "text/plain": [
       "'2.0e-05'"
      ]
     },
     "execution_count": 34,
     "metadata": {},
     "output_type": "execute_result"
    }
   ],
   "source": [
    "f\"{t:.{1}e}\""
   ]
  },
  {
   "cell_type": "code",
   "execution_count": 25,
   "metadata": {
    "scrolled": true
   },
   "outputs": [],
   "source": [
    "def generate_sequence(tau):\n",
    "\n",
    "    # Get the dictionary containing the default parameters for the desired sequence and alter the values as needed.\n",
    "    # generate_params = pulsedmasterlogic.generate_method_params['rabi']\n",
    "    generate_params=OrderedDict()\n",
    "    generate_params['name'] = 'HHwait'\n",
    "    generate_params['spinlock_amp'] = 0.2\n",
    "    generate_params['lock_time'] = 60.0e-6\n",
    "    generate_params['idle_time'] = tau\n",
    "    generate_params['alternating'] = True\n",
    "\n",
    "    # Call the actual generation method using a wrapper method and pass the parameter set\n",
    "    pulsedmasterlogic.generate_predefined_sequence('Hartmann_Hahn_waiting', generate_params)\n",
    "    # Give it a moment to generate\n",
    "    time.sleep(0.5)\n",
    "\n",
    "    # The created object is a PulseBlockEnsemble instance, a recipe to create a waveform.\n",
    "    # You can get all created PulseBlockEnsembles using this property (keys are ensemble names, values are the object instances):\n",
    "    #for ensemble_name in pulsedmasterlogic.saved_pulse_block_ensembles.keys():\n",
    "    #    print(ensemble_name)\n",
    "\n",
    "    # The \"with_load\" flag can be used to also load the waveform into the channels after creating it\n",
    "    pulsedmasterlogic.sample_sequence('HHwait', with_load=True)\n",
    "    # Wait for the sampling to finish. There is a status dictionary that can be used to check for process status.\n",
    "    while pulsedmasterlogic.status_dict['sampload_busy']:\n",
    "        time.sleep(0.1)\n",
    "\n",
    "    pulsedmasterlogic.set_measurement_settings(invoke_settings=False, \n",
    "                                               controlled_variable= [tau],\n",
    "                                               number_of_lasers=2, \n",
    "                                               laser_ignore_list=[], \n",
    "                                               alternating=True, \n",
    "                                               units=('s', 'arb. u.'))\n",
    "    time.sleep(0.5)\n",
    "\n",
    "    pulsedmasterlogic.set_fast_counter_settings(record_length=4.0e-6, number_of_gates=1)\n",
    "    time.sleep(0.5)\n",
    "\n",
    "    import winsound\n",
    "    frequency = 300  # Set Frequency To 2500 Hertz\n",
    "    duration = 1000  # Set Duration To 1000 ms == 1 second\n",
    "    winsound.Beep(frequency, duration)\n",
    "    # You can get a read-only view of the current measurement settings by using this property:\n",
    "    # for setting, value in pulsedmasterlogic.measurement_settings.items():\n",
    "    #     print('{0}:\\n  {1}'.format(setting, value))"
   ]
  },
  {
   "cell_type": "code",
   "execution_count": 26,
   "metadata": {},
   "outputs": [],
   "source": [
    "def refocus_poi(poi=None, max_drift=0.5, min_counts=10e+3):\n",
    "    if poi==None:\n",
    "        return False\n",
    "    scannerlogic.stop_scanning()\n",
    "    poimanager.go_to_poi(poi)\n",
    "    pos_start = scannerlogic.get_position()\n",
    "    NV_name =poimanager.poi_list[poi]._name\n",
    "    poimanager.optimise_poi(poi)\n",
    "    while optimizer.module_state() == 'idle':\n",
    "        time.sleep(0.2)\n",
    "    while optimizer.module_state() != 'idle':\n",
    "        time.sleep(0.2)\n",
    "    time.sleep(5)\n",
    "    pos_end=scannerlogic.get_position()\n",
    "    print(counterlogic.countdata.mean(),abs(pos_end[0]-pos_start[0]))\n",
    "    if (abs(pos_end[0]-pos_start[0])>max_drift or abs(pos_end[1]-pos_start[1])>max_drift or \n",
    "       abs(pos_end[2]-pos_start[2])>max_drift or counterlogic.countdata.mean()<min_counts):\n",
    "        scannerlogic.set_position('',x=pos_start[0],y=pos_start[1],z=pos_start[2])\n",
    "        poimanager.set_new_position(poi,pos_start)\n",
    "        print(abs(pos_end[0]-pos_start[0])>max_drift or abs(pos_end[1]-pos_start[1])>max_drift or \n",
    "       abs(pos_end[2]-pos_start[2])>max_drift or counterlogic.countdata.mean()<min_counts)\n",
    "        return False\n",
    "        write_to_logfile('PositionRefocus_log', str(datetime.datetime.now()),name= NV_name, \n",
    "                     x_pos=pos_start[0], y_pos=pos_start[1], z_pos=pos_start[2],sucess=0)\n",
    "    write_to_logfile('PositionRefocus_log', str(datetime.datetime.now()),name= NV_name, \n",
    "                     x_pos=pos_end[0], y_pos=pos_end[1], z_pos=pos_end[2],sucess=1)\n",
    "    return True"
   ]
  },
  {
   "cell_type": "code",
   "execution_count": null,
   "metadata": {},
   "outputs": [],
   "source": []
  }
 ],
 "metadata": {
  "kernelspec": {
   "display_name": "Qudi",
   "language": "python",
   "name": "qudi"
  },
  "language_info": {
   "codemirror_mode": {
    "name": "ipython",
    "version": "3.6.5"
   },
   "file_extension": ".py",
   "mimetype": "text/x-python",
   "name": "python",
   "nbconvert_exporter": "python",
   "pygments_lexer": "ipython3",
   "version": "3.6.5"
  }
 },
 "nbformat": 4,
 "nbformat_minor": 2
}
